{
 "cells": [
  {
   "cell_type": "markdown",
   "id": "0202617e-2572-40df-af57-efecc2e878e9",
   "metadata": {},
   "source": [
    "## Computing the Average Possessions per Minute for all Teams in the last 20 seasons.\n",
    "\n",
    "Using the NBA API to obtain the amount of possessions and minutes played by all teams in the NBA during the last 20 seasons.\n",
    "\n",
    "Plotting with [Plotly Express](https://plotly.com/python/plotly-express/)"
   ]
  },
  {
   "cell_type": "code",
   "execution_count": 109,
   "id": "69bf30eb-98f2-410b-83b1-96e7bff6ed25",
   "metadata": {},
   "outputs": [],
   "source": [
    "# All needed imports\n",
    "from nba_api.stats.endpoints import leaguedashteamstats\n",
    "import numpy as np\n",
    "import pandas as pd\n",
    "import plotly.express as px\n",
    "import plotly.graph_objects as go\n",
    "import time"
   ]
  },
  {
   "cell_type": "code",
   "execution_count": 110,
   "id": "19c06fd8-c29e-4ee9-a2e9-d75b07d2e0f2",
   "metadata": {},
   "outputs": [
    {
     "data": {
      "text/html": [
       "<div>\n",
       "<style scoped>\n",
       "    .dataframe tbody tr th:only-of-type {\n",
       "        vertical-align: middle;\n",
       "    }\n",
       "\n",
       "    .dataframe tbody tr th {\n",
       "        vertical-align: top;\n",
       "    }\n",
       "\n",
       "    .dataframe thead th {\n",
       "        text-align: right;\n",
       "    }\n",
       "</style>\n",
       "<table border=\"1\" class=\"dataframe\">\n",
       "  <thead>\n",
       "    <tr style=\"text-align: right;\">\n",
       "      <th></th>\n",
       "      <th>TEAM_ID</th>\n",
       "      <th>TEAM_NAME</th>\n",
       "      <th>MIN</th>\n",
       "      <th>POSS</th>\n",
       "      <th>SEASON</th>\n",
       "    </tr>\n",
       "  </thead>\n",
       "  <tbody>\n",
       "    <tr>\n",
       "      <th>0</th>\n",
       "      <td>1610612737</td>\n",
       "      <td>Atlanta Hawks</td>\n",
       "      <td>3956.0</td>\n",
       "      <td>7678</td>\n",
       "      <td>2002</td>\n",
       "    </tr>\n",
       "    <tr>\n",
       "      <th>1</th>\n",
       "      <td>1610612738</td>\n",
       "      <td>Boston Celtics</td>\n",
       "      <td>3966.0</td>\n",
       "      <td>7738</td>\n",
       "      <td>2002</td>\n",
       "    </tr>\n",
       "    <tr>\n",
       "      <th>2</th>\n",
       "      <td>1610612766</td>\n",
       "      <td>Charlotte Hornets</td>\n",
       "      <td>3951.0</td>\n",
       "      <td>7480</td>\n",
       "      <td>2002</td>\n",
       "    </tr>\n",
       "    <tr>\n",
       "      <th>3</th>\n",
       "      <td>1610612741</td>\n",
       "      <td>Chicago Bulls</td>\n",
       "      <td>3961.0</td>\n",
       "      <td>7549</td>\n",
       "      <td>2002</td>\n",
       "    </tr>\n",
       "    <tr>\n",
       "      <th>4</th>\n",
       "      <td>1610612739</td>\n",
       "      <td>Cleveland Cavaliers</td>\n",
       "      <td>3971.0</td>\n",
       "      <td>7553</td>\n",
       "      <td>2002</td>\n",
       "    </tr>\n",
       "  </tbody>\n",
       "</table>\n",
       "</div>"
      ],
      "text/plain": [
       "      TEAM_ID            TEAM_NAME     MIN  POSS  SEASON\n",
       "0  1610612737        Atlanta Hawks  3956.0  7678    2002\n",
       "1  1610612738       Boston Celtics  3966.0  7738    2002\n",
       "2  1610612766    Charlotte Hornets  3951.0  7480    2002\n",
       "3  1610612741        Chicago Bulls  3961.0  7549    2002\n",
       "4  1610612739  Cleveland Cavaliers  3971.0  7553    2002"
      ]
     },
     "execution_count": 110,
     "metadata": {},
     "output_type": "execute_result"
    }
   ],
   "source": [
    "# Get teams possessions and minutes played for last 20 seasons\n",
    "# API doesn't let us obtain for information for the 20 years, we have to call this 20 times\n",
    "df = pd.DataFrame()\n",
    "for i in range(20):\n",
    "    # Building the Season String (ie. 2020-21)\n",
    "    season_str = f\"{2001 + i}-{2 + i:02d}\"\n",
    "    # Let's make some attempts to obtain the data, since we might be doing too many requests...\n",
    "    for attempt in range(5):\n",
    "        try:\n",
    "            # Try to get the information for the season, getting only the columns we need\n",
    "            teams = leaguedashteamstats.LeagueDashTeamStats(\n",
    "                season=season_str, measure_type_detailed_defense=\"Advanced\",\n",
    "            ).get_data_frames()[0][[\"TEAM_ID\", \"TEAM_NAME\", \"MIN\", \"POSS\"]]\n",
    "        except:\n",
    "            # If we get an error we go to sleep for some time\n",
    "            time.sleep(30)\n",
    "        else:\n",
    "            # If everything's OK with the request, we continue\n",
    "            break\n",
    "\n",
    "    if len(teams):\n",
    "        teams[\"SEASON\"] = 2002 + i\n",
    "        df = pd.concat([df, teams], axis=0)\n",
    "    else:\n",
    "        print(\"Try again :(\")\n",
    "        break\n",
    "\n",
    "df.head()"
   ]
  },
  {
   "cell_type": "code",
   "execution_count": 111,
   "id": "23974d8c-edc4-455c-8236-497778925052",
   "metadata": {},
   "outputs": [],
   "source": [
    "# Get possessions per minute for every row.\n",
    "df[\"POSS_PER_MIN\"] = df[\"POSS\"] / df[\"MIN\"]"
   ]
  },
  {
   "cell_type": "code",
   "execution_count": 112,
   "id": "b975396c-faec-416c-94e7-af3ccf329847",
   "metadata": {},
   "outputs": [],
   "source": [
    "# Get the average possessions per minute for the league in each season.\n",
    "poss_per_min_series = df.groupby(\"SEASON\")[\"POSS_PER_MIN\"].mean()\n",
    "poss_per_min_df = pd.DataFrame(poss_per_min_series)\n",
    "# Transform the index\n"
   ]
  },
  {
   "cell_type": "code",
   "execution_count": 113,
   "id": "d9be613d-b15d-405b-868f-bc60bc0d58e8",
   "metadata": {},
   "outputs": [
    {
     "data": {
      "application/vnd.plotly.v1+json": {
       "config": {
        "plotlyServerURL": "https://plot.ly"
       },
       "data": [
        {
         "hovertemplate": "SEASON=%{x}<br>POSS_PER_MIN=%{y}<extra></extra>",
         "legendgroup": "",
         "marker": {
          "color": "#636efa",
          "symbol": "circle"
         },
         "mode": "markers",
         "name": "",
         "orientation": "v",
         "showlegend": false,
         "type": "scatter",
         "x": [
          2002,
          2003,
          2004,
          2005,
          2006,
          2007,
          2008,
          2009,
          2010,
          2011,
          2012,
          2013,
          2014,
          2015,
          2016,
          2017,
          2018,
          2019,
          2020,
          2021
         ],
         "xaxis": "x",
         "y": [
          1.9157703366817553,
          1.9229252853302994,
          1.9052076173486823,
          1.9223619315416016,
          1.9105003965091576,
          1.9360726071102006,
          1.9476100700168504,
          1.932450051365498,
          1.94999341278383,
          1.9353859067950732,
          1.9218662873010621,
          1.9363430808610225,
          1.974989418959955,
          1.9732444710962005,
          2.011267806273322,
          2.0200593855845645,
          2.0422520703223834,
          2.097097200978909,
          2.0998907523193484,
          2.0781344273006788
         ],
         "yaxis": "y"
        }
       ],
       "layout": {
        "autosize": true,
        "legend": {
         "tracegroupgap": 0
        },
        "margin": {
         "t": 60
        },
        "paper_bgcolor": "rgba(0, 0, 0, 0)",
        "plot_bgcolor": "rgba(0, 0, 0, 0)",
        "template": {
         "data": {
          "bar": [
           {
            "error_x": {
             "color": "#2a3f5f"
            },
            "error_y": {
             "color": "#2a3f5f"
            },
            "marker": {
             "line": {
              "color": "#E5ECF6",
              "width": 0.5
             },
             "pattern": {
              "fillmode": "overlay",
              "size": 10,
              "solidity": 0.2
             }
            },
            "type": "bar"
           }
          ],
          "barpolar": [
           {
            "marker": {
             "line": {
              "color": "#E5ECF6",
              "width": 0.5
             },
             "pattern": {
              "fillmode": "overlay",
              "size": 10,
              "solidity": 0.2
             }
            },
            "type": "barpolar"
           }
          ],
          "carpet": [
           {
            "aaxis": {
             "endlinecolor": "#2a3f5f",
             "gridcolor": "white",
             "linecolor": "white",
             "minorgridcolor": "white",
             "startlinecolor": "#2a3f5f"
            },
            "baxis": {
             "endlinecolor": "#2a3f5f",
             "gridcolor": "white",
             "linecolor": "white",
             "minorgridcolor": "white",
             "startlinecolor": "#2a3f5f"
            },
            "type": "carpet"
           }
          ],
          "choropleth": [
           {
            "colorbar": {
             "outlinewidth": 0,
             "ticks": ""
            },
            "type": "choropleth"
           }
          ],
          "contour": [
           {
            "colorbar": {
             "outlinewidth": 0,
             "ticks": ""
            },
            "colorscale": [
             [
              0,
              "#0d0887"
             ],
             [
              0.1111111111111111,
              "#46039f"
             ],
             [
              0.2222222222222222,
              "#7201a8"
             ],
             [
              0.3333333333333333,
              "#9c179e"
             ],
             [
              0.4444444444444444,
              "#bd3786"
             ],
             [
              0.5555555555555556,
              "#d8576b"
             ],
             [
              0.6666666666666666,
              "#ed7953"
             ],
             [
              0.7777777777777778,
              "#fb9f3a"
             ],
             [
              0.8888888888888888,
              "#fdca26"
             ],
             [
              1,
              "#f0f921"
             ]
            ],
            "type": "contour"
           }
          ],
          "contourcarpet": [
           {
            "colorbar": {
             "outlinewidth": 0,
             "ticks": ""
            },
            "type": "contourcarpet"
           }
          ],
          "heatmap": [
           {
            "colorbar": {
             "outlinewidth": 0,
             "ticks": ""
            },
            "colorscale": [
             [
              0,
              "#0d0887"
             ],
             [
              0.1111111111111111,
              "#46039f"
             ],
             [
              0.2222222222222222,
              "#7201a8"
             ],
             [
              0.3333333333333333,
              "#9c179e"
             ],
             [
              0.4444444444444444,
              "#bd3786"
             ],
             [
              0.5555555555555556,
              "#d8576b"
             ],
             [
              0.6666666666666666,
              "#ed7953"
             ],
             [
              0.7777777777777778,
              "#fb9f3a"
             ],
             [
              0.8888888888888888,
              "#fdca26"
             ],
             [
              1,
              "#f0f921"
             ]
            ],
            "type": "heatmap"
           }
          ],
          "heatmapgl": [
           {
            "colorbar": {
             "outlinewidth": 0,
             "ticks": ""
            },
            "colorscale": [
             [
              0,
              "#0d0887"
             ],
             [
              0.1111111111111111,
              "#46039f"
             ],
             [
              0.2222222222222222,
              "#7201a8"
             ],
             [
              0.3333333333333333,
              "#9c179e"
             ],
             [
              0.4444444444444444,
              "#bd3786"
             ],
             [
              0.5555555555555556,
              "#d8576b"
             ],
             [
              0.6666666666666666,
              "#ed7953"
             ],
             [
              0.7777777777777778,
              "#fb9f3a"
             ],
             [
              0.8888888888888888,
              "#fdca26"
             ],
             [
              1,
              "#f0f921"
             ]
            ],
            "type": "heatmapgl"
           }
          ],
          "histogram": [
           {
            "marker": {
             "pattern": {
              "fillmode": "overlay",
              "size": 10,
              "solidity": 0.2
             }
            },
            "type": "histogram"
           }
          ],
          "histogram2d": [
           {
            "colorbar": {
             "outlinewidth": 0,
             "ticks": ""
            },
            "colorscale": [
             [
              0,
              "#0d0887"
             ],
             [
              0.1111111111111111,
              "#46039f"
             ],
             [
              0.2222222222222222,
              "#7201a8"
             ],
             [
              0.3333333333333333,
              "#9c179e"
             ],
             [
              0.4444444444444444,
              "#bd3786"
             ],
             [
              0.5555555555555556,
              "#d8576b"
             ],
             [
              0.6666666666666666,
              "#ed7953"
             ],
             [
              0.7777777777777778,
              "#fb9f3a"
             ],
             [
              0.8888888888888888,
              "#fdca26"
             ],
             [
              1,
              "#f0f921"
             ]
            ],
            "type": "histogram2d"
           }
          ],
          "histogram2dcontour": [
           {
            "colorbar": {
             "outlinewidth": 0,
             "ticks": ""
            },
            "colorscale": [
             [
              0,
              "#0d0887"
             ],
             [
              0.1111111111111111,
              "#46039f"
             ],
             [
              0.2222222222222222,
              "#7201a8"
             ],
             [
              0.3333333333333333,
              "#9c179e"
             ],
             [
              0.4444444444444444,
              "#bd3786"
             ],
             [
              0.5555555555555556,
              "#d8576b"
             ],
             [
              0.6666666666666666,
              "#ed7953"
             ],
             [
              0.7777777777777778,
              "#fb9f3a"
             ],
             [
              0.8888888888888888,
              "#fdca26"
             ],
             [
              1,
              "#f0f921"
             ]
            ],
            "type": "histogram2dcontour"
           }
          ],
          "mesh3d": [
           {
            "colorbar": {
             "outlinewidth": 0,
             "ticks": ""
            },
            "type": "mesh3d"
           }
          ],
          "parcoords": [
           {
            "line": {
             "colorbar": {
              "outlinewidth": 0,
              "ticks": ""
             }
            },
            "type": "parcoords"
           }
          ],
          "pie": [
           {
            "automargin": true,
            "type": "pie"
           }
          ],
          "scatter": [
           {
            "marker": {
             "colorbar": {
              "outlinewidth": 0,
              "ticks": ""
             }
            },
            "type": "scatter"
           }
          ],
          "scatter3d": [
           {
            "line": {
             "colorbar": {
              "outlinewidth": 0,
              "ticks": ""
             }
            },
            "marker": {
             "colorbar": {
              "outlinewidth": 0,
              "ticks": ""
             }
            },
            "type": "scatter3d"
           }
          ],
          "scattercarpet": [
           {
            "marker": {
             "colorbar": {
              "outlinewidth": 0,
              "ticks": ""
             }
            },
            "type": "scattercarpet"
           }
          ],
          "scattergeo": [
           {
            "marker": {
             "colorbar": {
              "outlinewidth": 0,
              "ticks": ""
             }
            },
            "type": "scattergeo"
           }
          ],
          "scattergl": [
           {
            "marker": {
             "colorbar": {
              "outlinewidth": 0,
              "ticks": ""
             }
            },
            "type": "scattergl"
           }
          ],
          "scattermapbox": [
           {
            "marker": {
             "colorbar": {
              "outlinewidth": 0,
              "ticks": ""
             }
            },
            "type": "scattermapbox"
           }
          ],
          "scatterpolar": [
           {
            "marker": {
             "colorbar": {
              "outlinewidth": 0,
              "ticks": ""
             }
            },
            "type": "scatterpolar"
           }
          ],
          "scatterpolargl": [
           {
            "marker": {
             "colorbar": {
              "outlinewidth": 0,
              "ticks": ""
             }
            },
            "type": "scatterpolargl"
           }
          ],
          "scatterternary": [
           {
            "marker": {
             "colorbar": {
              "outlinewidth": 0,
              "ticks": ""
             }
            },
            "type": "scatterternary"
           }
          ],
          "surface": [
           {
            "colorbar": {
             "outlinewidth": 0,
             "ticks": ""
            },
            "colorscale": [
             [
              0,
              "#0d0887"
             ],
             [
              0.1111111111111111,
              "#46039f"
             ],
             [
              0.2222222222222222,
              "#7201a8"
             ],
             [
              0.3333333333333333,
              "#9c179e"
             ],
             [
              0.4444444444444444,
              "#bd3786"
             ],
             [
              0.5555555555555556,
              "#d8576b"
             ],
             [
              0.6666666666666666,
              "#ed7953"
             ],
             [
              0.7777777777777778,
              "#fb9f3a"
             ],
             [
              0.8888888888888888,
              "#fdca26"
             ],
             [
              1,
              "#f0f921"
             ]
            ],
            "type": "surface"
           }
          ],
          "table": [
           {
            "cells": {
             "fill": {
              "color": "#EBF0F8"
             },
             "line": {
              "color": "white"
             }
            },
            "header": {
             "fill": {
              "color": "#C8D4E3"
             },
             "line": {
              "color": "white"
             }
            },
            "type": "table"
           }
          ]
         },
         "layout": {
          "annotationdefaults": {
           "arrowcolor": "#2a3f5f",
           "arrowhead": 0,
           "arrowwidth": 1
          },
          "autotypenumbers": "strict",
          "coloraxis": {
           "colorbar": {
            "outlinewidth": 0,
            "ticks": ""
           }
          },
          "colorscale": {
           "diverging": [
            [
             0,
             "#8e0152"
            ],
            [
             0.1,
             "#c51b7d"
            ],
            [
             0.2,
             "#de77ae"
            ],
            [
             0.3,
             "#f1b6da"
            ],
            [
             0.4,
             "#fde0ef"
            ],
            [
             0.5,
             "#f7f7f7"
            ],
            [
             0.6,
             "#e6f5d0"
            ],
            [
             0.7,
             "#b8e186"
            ],
            [
             0.8,
             "#7fbc41"
            ],
            [
             0.9,
             "#4d9221"
            ],
            [
             1,
             "#276419"
            ]
           ],
           "sequential": [
            [
             0,
             "#0d0887"
            ],
            [
             0.1111111111111111,
             "#46039f"
            ],
            [
             0.2222222222222222,
             "#7201a8"
            ],
            [
             0.3333333333333333,
             "#9c179e"
            ],
            [
             0.4444444444444444,
             "#bd3786"
            ],
            [
             0.5555555555555556,
             "#d8576b"
            ],
            [
             0.6666666666666666,
             "#ed7953"
            ],
            [
             0.7777777777777778,
             "#fb9f3a"
            ],
            [
             0.8888888888888888,
             "#fdca26"
            ],
            [
             1,
             "#f0f921"
            ]
           ],
           "sequentialminus": [
            [
             0,
             "#0d0887"
            ],
            [
             0.1111111111111111,
             "#46039f"
            ],
            [
             0.2222222222222222,
             "#7201a8"
            ],
            [
             0.3333333333333333,
             "#9c179e"
            ],
            [
             0.4444444444444444,
             "#bd3786"
            ],
            [
             0.5555555555555556,
             "#d8576b"
            ],
            [
             0.6666666666666666,
             "#ed7953"
            ],
            [
             0.7777777777777778,
             "#fb9f3a"
            ],
            [
             0.8888888888888888,
             "#fdca26"
            ],
            [
             1,
             "#f0f921"
            ]
           ]
          },
          "colorway": [
           "#636efa",
           "#EF553B",
           "#00cc96",
           "#ab63fa",
           "#FFA15A",
           "#19d3f3",
           "#FF6692",
           "#B6E880",
           "#FF97FF",
           "#FECB52"
          ],
          "font": {
           "color": "#2a3f5f"
          },
          "geo": {
           "bgcolor": "white",
           "lakecolor": "white",
           "landcolor": "#E5ECF6",
           "showlakes": true,
           "showland": true,
           "subunitcolor": "white"
          },
          "hoverlabel": {
           "align": "left"
          },
          "hovermode": "closest",
          "mapbox": {
           "style": "light"
          },
          "paper_bgcolor": "white",
          "plot_bgcolor": "#E5ECF6",
          "polar": {
           "angularaxis": {
            "gridcolor": "white",
            "linecolor": "white",
            "ticks": ""
           },
           "bgcolor": "#E5ECF6",
           "radialaxis": {
            "gridcolor": "white",
            "linecolor": "white",
            "ticks": ""
           }
          },
          "scene": {
           "xaxis": {
            "backgroundcolor": "#E5ECF6",
            "gridcolor": "white",
            "gridwidth": 2,
            "linecolor": "white",
            "showbackground": true,
            "ticks": "",
            "zerolinecolor": "white"
           },
           "yaxis": {
            "backgroundcolor": "#E5ECF6",
            "gridcolor": "white",
            "gridwidth": 2,
            "linecolor": "white",
            "showbackground": true,
            "ticks": "",
            "zerolinecolor": "white"
           },
           "zaxis": {
            "backgroundcolor": "#E5ECF6",
            "gridcolor": "white",
            "gridwidth": 2,
            "linecolor": "white",
            "showbackground": true,
            "ticks": "",
            "zerolinecolor": "white"
           }
          },
          "shapedefaults": {
           "line": {
            "color": "#2a3f5f"
           }
          },
          "ternary": {
           "aaxis": {
            "gridcolor": "white",
            "linecolor": "white",
            "ticks": ""
           },
           "baxis": {
            "gridcolor": "white",
            "linecolor": "white",
            "ticks": ""
           },
           "bgcolor": "#E5ECF6",
           "caxis": {
            "gridcolor": "white",
            "linecolor": "white",
            "ticks": ""
           }
          },
          "title": {
           "x": 0.05
          },
          "xaxis": {
           "automargin": true,
           "gridcolor": "white",
           "linecolor": "white",
           "ticks": "",
           "title": {
            "standoff": 15
           },
           "zerolinecolor": "white",
           "zerolinewidth": 2
          },
          "yaxis": {
           "automargin": true,
           "gridcolor": "white",
           "linecolor": "white",
           "ticks": "",
           "title": {
            "standoff": 15
           },
           "zerolinecolor": "white",
           "zerolinewidth": 2
          }
         }
        },
        "xaxis": {
         "anchor": "y",
         "autorange": true,
         "domain": [
          0,
          1
         ],
         "range": [
          2000.8320556501988,
          2022.1679443498012
         ],
         "title": {
          "text": "SEASON"
         },
         "type": "linear"
        },
        "yaxis": {
         "anchor": "x",
         "autorange": true,
         "domain": [
          0,
          1
         ],
         "range": [
          1.8901337263207698,
          2.114964643347261
         ],
         "title": {
          "text": "POSS_PER_MIN"
         },
         "type": "linear"
        }
       }
      },
      "image/png": "[encoded data removed]",
      "text/html": [
       "<div>                            <div id=\"f6e74e12-229b-4eab-b51b-ac4e83563649\" class=\"plotly-graph-div\" style=\"height:525px; width:100%;\"></div>            <script type=\"text/javascript\">                require([\"plotly\"], function(Plotly) {                    window.PLOTLYENV=window.PLOTLYENV || {};                                    if (document.getElementById(\"f6e74e12-229b-4eab-b51b-ac4e83563649\")) {                    Plotly.newPlot(                        \"f6e74e12-229b-4eab-b51b-ac4e83563649\",                        [{\"hovertemplate\":\"SEASON=%{x}<br>POSS_PER_MIN=%{y}<extra></extra>\",\"legendgroup\":\"\",\"marker\":{\"color\":\"#636efa\",\"symbol\":\"circle\"},\"mode\":\"markers\",\"name\":\"\",\"orientation\":\"v\",\"showlegend\":false,\"type\":\"scatter\",\"x\":[2002,2003,2004,2005,2006,2007,2008,2009,2010,2011,2012,2013,2014,2015,2016,2017,2018,2019,2020,2021],\"xaxis\":\"x\",\"y\":[1.9157703366817553,1.9229252853302994,1.9052076173486823,1.9223619315416016,1.9105003965091576,1.9360726071102006,1.9476100700168504,1.932450051365498,1.94999341278383,1.9353859067950732,1.9218662873010621,1.9363430808610225,1.974989418959955,1.9732444710962005,2.011267806273322,2.0200593855845645,2.0422520703223834,2.097097200978909,2.0998907523193484,2.0781344273006788],\"yaxis\":\"y\"}],                        {\"legend\":{\"tracegroupgap\":0},\"margin\":{\"t\":60},\"paper_bgcolor\":\"rgba(0,0,0,0)\",\"plot_bgcolor\":\"rgba(0,0,0,0)\",\"template\":{\"data\":{\"bar\":[{\"error_x\":{\"color\":\"#2a3f5f\"},\"error_y\":{\"color\":\"#2a3f5f\"},\"marker\":{\"line\":{\"color\":\"#E5ECF6\",\"width\":0.5},\"pattern\":{\"fillmode\":\"overlay\",\"size\":10,\"solidity\":0.2}},\"type\":\"bar\"}],\"barpolar\":[{\"marker\":{\"line\":{\"color\":\"#E5ECF6\",\"width\":0.5},\"pattern\":{\"fillmode\":\"overlay\",\"size\":10,\"solidity\":0.2}},\"type\":\"barpolar\"}],\"carpet\":[{\"aaxis\":{\"endlinecolor\":\"#2a3f5f\",\"gridcolor\":\"white\",\"linecolor\":\"white\",\"minorgridcolor\":\"white\",\"startlinecolor\":\"#2a3f5f\"},\"baxis\":{\"endlinecolor\":\"#2a3f5f\",\"gridcolor\":\"white\",\"linecolor\":\"white\",\"minorgridcolor\":\"white\",\"startlinecolor\":\"#2a3f5f\"},\"type\":\"carpet\"}],\"choropleth\":[{\"colorbar\":{\"outlinewidth\":0,\"ticks\":\"\"},\"type\":\"choropleth\"}],\"contour\":[{\"colorbar\":{\"outlinewidth\":0,\"ticks\":\"\"},\"colorscale\":[[0.0,\"#0d0887\"],[0.1111111111111111,\"#46039f\"],[0.2222222222222222,\"#7201a8\"],[0.3333333333333333,\"#9c179e\"],[0.4444444444444444,\"#bd3786\"],[0.5555555555555556,\"#d8576b\"],[0.6666666666666666,\"#ed7953\"],[0.7777777777777778,\"#fb9f3a\"],[0.8888888888888888,\"#fdca26\"],[1.0,\"#f0f921\"]],\"type\":\"contour\"}],\"contourcarpet\":[{\"colorbar\":{\"outlinewidth\":0,\"ticks\":\"\"},\"type\":\"contourcarpet\"}],\"heatmap\":[{\"colorbar\":{\"outlinewidth\":0,\"ticks\":\"\"},\"colorscale\":[[0.0,\"#0d0887\"],[0.1111111111111111,\"#46039f\"],[0.2222222222222222,\"#7201a8\"],[0.3333333333333333,\"#9c179e\"],[0.4444444444444444,\"#bd3786\"],[0.5555555555555556,\"#d8576b\"],[0.6666666666666666,\"#ed7953\"],[0.7777777777777778,\"#fb9f3a\"],[0.8888888888888888,\"#fdca26\"],[1.0,\"#f0f921\"]],\"type\":\"heatmap\"}],\"heatmapgl\":[{\"colorbar\":{\"outlinewidth\":0,\"ticks\":\"\"},\"colorscale\":[[0.0,\"#0d0887\"],[0.1111111111111111,\"#46039f\"],[0.2222222222222222,\"#7201a8\"],[0.3333333333333333,\"#9c179e\"],[0.4444444444444444,\"#bd3786\"],[0.5555555555555556,\"#d8576b\"],[0.6666666666666666,\"#ed7953\"],[0.7777777777777778,\"#fb9f3a\"],[0.8888888888888888,\"#fdca26\"],[1.0,\"#f0f921\"]],\"type\":\"heatmapgl\"}],\"histogram\":[{\"marker\":{\"pattern\":{\"fillmode\":\"overlay\",\"size\":10,\"solidity\":0.2}},\"type\":\"histogram\"}],\"histogram2d\":[{\"colorbar\":{\"outlinewidth\":0,\"ticks\":\"\"},\"colorscale\":[[0.0,\"#0d0887\"],[0.1111111111111111,\"#46039f\"],[0.2222222222222222,\"#7201a8\"],[0.3333333333333333,\"#9c179e\"],[0.4444444444444444,\"#bd3786\"],[0.5555555555555556,\"#d8576b\"],[0.6666666666666666,\"#ed7953\"],[0.7777777777777778,\"#fb9f3a\"],[0.8888888888888888,\"#fdca26\"],[1.0,\"#f0f921\"]],\"type\":\"histogram2d\"}],\"histogram2dcontour\":[{\"colorbar\":{\"outlinewidth\":0,\"ticks\":\"\"},\"colorscale\":[[0.0,\"#0d0887\"],[0.1111111111111111,\"#46039f\"],[0.2222222222222222,\"#7201a8\"],[0.3333333333333333,\"#9c179e\"],[0.4444444444444444,\"#bd3786\"],[0.5555555555555556,\"#d8576b\"],[0.6666666666666666,\"#ed7953\"],[0.7777777777777778,\"#fb9f3a\"],[0.8888888888888888,\"#fdca26\"],[1.0,\"#f0f921\"]],\"type\":\"histogram2dcontour\"}],\"mesh3d\":[{\"colorbar\":{\"outlinewidth\":0,\"ticks\":\"\"},\"type\":\"mesh3d\"}],\"parcoords\":[{\"line\":{\"colorbar\":{\"outlinewidth\":0,\"ticks\":\"\"}},\"type\":\"parcoords\"}],\"pie\":[{\"automargin\":true,\"type\":\"pie\"}],\"scatter\":[{\"marker\":{\"colorbar\":{\"outlinewidth\":0,\"ticks\":\"\"}},\"type\":\"scatter\"}],\"scatter3d\":[{\"line\":{\"colorbar\":{\"outlinewidth\":0,\"ticks\":\"\"}},\"marker\":{\"colorbar\":{\"outlinewidth\":0,\"ticks\":\"\"}},\"type\":\"scatter3d\"}],\"scattercarpet\":[{\"marker\":{\"colorbar\":{\"outlinewidth\":0,\"ticks\":\"\"}},\"type\":\"scattercarpet\"}],\"scattergeo\":[{\"marker\":{\"colorbar\":{\"outlinewidth\":0,\"ticks\":\"\"}},\"type\":\"scattergeo\"}],\"scattergl\":[{\"marker\":{\"colorbar\":{\"outlinewidth\":0,\"ticks\":\"\"}},\"type\":\"scattergl\"}],\"scattermapbox\":[{\"marker\":{\"colorbar\":{\"outlinewidth\":0,\"ticks\":\"\"}},\"type\":\"scattermapbox\"}],\"scatterpolar\":[{\"marker\":{\"colorbar\":{\"outlinewidth\":0,\"ticks\":\"\"}},\"type\":\"scatterpolar\"}],\"scatterpolargl\":[{\"marker\":{\"colorbar\":{\"outlinewidth\":0,\"ticks\":\"\"}},\"type\":\"scatterpolargl\"}],\"scatterternary\":[{\"marker\":{\"colorbar\":{\"outlinewidth\":0,\"ticks\":\"\"}},\"type\":\"scatterternary\"}],\"surface\":[{\"colorbar\":{\"outlinewidth\":0,\"ticks\":\"\"},\"colorscale\":[[0.0,\"#0d0887\"],[0.1111111111111111,\"#46039f\"],[0.2222222222222222,\"#7201a8\"],[0.3333333333333333,\"#9c179e\"],[0.4444444444444444,\"#bd3786\"],[0.5555555555555556,\"#d8576b\"],[0.6666666666666666,\"#ed7953\"],[0.7777777777777778,\"#fb9f3a\"],[0.8888888888888888,\"#fdca26\"],[1.0,\"#f0f921\"]],\"type\":\"surface\"}],\"table\":[{\"cells\":{\"fill\":{\"color\":\"#EBF0F8\"},\"line\":{\"color\":\"white\"}},\"header\":{\"fill\":{\"color\":\"#C8D4E3\"},\"line\":{\"color\":\"white\"}},\"type\":\"table\"}]},\"layout\":{\"annotationdefaults\":{\"arrowcolor\":\"#2a3f5f\",\"arrowhead\":0,\"arrowwidth\":1},\"autotypenumbers\":\"strict\",\"coloraxis\":{\"colorbar\":{\"outlinewidth\":0,\"ticks\":\"\"}},\"colorscale\":{\"diverging\":[[0,\"#8e0152\"],[0.1,\"#c51b7d\"],[0.2,\"#de77ae\"],[0.3,\"#f1b6da\"],[0.4,\"#fde0ef\"],[0.5,\"#f7f7f7\"],[0.6,\"#e6f5d0\"],[0.7,\"#b8e186\"],[0.8,\"#7fbc41\"],[0.9,\"#4d9221\"],[1,\"#276419\"]],\"sequential\":[[0.0,\"#0d0887\"],[0.1111111111111111,\"#46039f\"],[0.2222222222222222,\"#7201a8\"],[0.3333333333333333,\"#9c179e\"],[0.4444444444444444,\"#bd3786\"],[0.5555555555555556,\"#d8576b\"],[0.6666666666666666,\"#ed7953\"],[0.7777777777777778,\"#fb9f3a\"],[0.8888888888888888,\"#fdca26\"],[1.0,\"#f0f921\"]],\"sequentialminus\":[[0.0,\"#0d0887\"],[0.1111111111111111,\"#46039f\"],[0.2222222222222222,\"#7201a8\"],[0.3333333333333333,\"#9c179e\"],[0.4444444444444444,\"#bd3786\"],[0.5555555555555556,\"#d8576b\"],[0.6666666666666666,\"#ed7953\"],[0.7777777777777778,\"#fb9f3a\"],[0.8888888888888888,\"#fdca26\"],[1.0,\"#f0f921\"]]},\"colorway\":[\"#636efa\",\"#EF553B\",\"#00cc96\",\"#ab63fa\",\"#FFA15A\",\"#19d3f3\",\"#FF6692\",\"#B6E880\",\"#FF97FF\",\"#FECB52\"],\"font\":{\"color\":\"#2a3f5f\"},\"geo\":{\"bgcolor\":\"white\",\"lakecolor\":\"white\",\"landcolor\":\"#E5ECF6\",\"showlakes\":true,\"showland\":true,\"subunitcolor\":\"white\"},\"hoverlabel\":{\"align\":\"left\"},\"hovermode\":\"closest\",\"mapbox\":{\"style\":\"light\"},\"paper_bgcolor\":\"white\",\"plot_bgcolor\":\"#E5ECF6\",\"polar\":{\"angularaxis\":{\"gridcolor\":\"white\",\"linecolor\":\"white\",\"ticks\":\"\"},\"bgcolor\":\"#E5ECF6\",\"radialaxis\":{\"gridcolor\":\"white\",\"linecolor\":\"white\",\"ticks\":\"\"}},\"scene\":{\"xaxis\":{\"backgroundcolor\":\"#E5ECF6\",\"gridcolor\":\"white\",\"gridwidth\":2,\"linecolor\":\"white\",\"showbackground\":true,\"ticks\":\"\",\"zerolinecolor\":\"white\"},\"yaxis\":{\"backgroundcolor\":\"#E5ECF6\",\"gridcolor\":\"white\",\"gridwidth\":2,\"linecolor\":\"white\",\"showbackground\":true,\"ticks\":\"\",\"zerolinecolor\":\"white\"},\"zaxis\":{\"backgroundcolor\":\"#E5ECF6\",\"gridcolor\":\"white\",\"gridwidth\":2,\"linecolor\":\"white\",\"showbackground\":true,\"ticks\":\"\",\"zerolinecolor\":\"white\"}},\"shapedefaults\":{\"line\":{\"color\":\"#2a3f5f\"}},\"ternary\":{\"aaxis\":{\"gridcolor\":\"white\",\"linecolor\":\"white\",\"ticks\":\"\"},\"baxis\":{\"gridcolor\":\"white\",\"linecolor\":\"white\",\"ticks\":\"\"},\"bgcolor\":\"#E5ECF6\",\"caxis\":{\"gridcolor\":\"white\",\"linecolor\":\"white\",\"ticks\":\"\"}},\"title\":{\"x\":0.05},\"xaxis\":{\"automargin\":true,\"gridcolor\":\"white\",\"linecolor\":\"white\",\"ticks\":\"\",\"title\":{\"standoff\":15},\"zerolinecolor\":\"white\",\"zerolinewidth\":2},\"yaxis\":{\"automargin\":true,\"gridcolor\":\"white\",\"linecolor\":\"white\",\"ticks\":\"\",\"title\":{\"standoff\":15},\"zerolinecolor\":\"white\",\"zerolinewidth\":2}}},\"xaxis\":{\"anchor\":\"y\",\"domain\":[0.0,1.0],\"title\":{\"text\":\"SEASON\"}},\"yaxis\":{\"anchor\":\"x\",\"domain\":[0.0,1.0],\"title\":{\"text\":\"POSS_PER_MIN\"}}},                        {\"responsive\": true}                    ).then(function(){\n",
       "                            \n",
       "var gd = document.getElementById('f6e74e12-229b-4eab-b51b-ac4e83563649');\n",
       "var x = new MutationObserver(function (mutations, observer) {{\n",
       "        var display = window.getComputedStyle(gd).display;\n",
       "        if (!display || display === 'none') {{\n",
       "            console.log([gd, 'removed!']);\n",
       "            Plotly.purge(gd);\n",
       "            observer.disconnect();\n",
       "        }}\n",
       "}});\n",
       "\n",
       "// Listen for the removal of the full notebook cells\n",
       "var notebookContainer = gd.closest('#notebook-container');\n",
       "if (notebookContainer) {{\n",
       "    x.observe(notebookContainer, {childList: true});\n",
       "}}\n",
       "\n",
       "// Listen for the clearing of the current output cell\n",
       "var outputEl = gd.closest('.output');\n",
       "if (outputEl) {{\n",
       "    x.observe(outputEl, {childList: true});\n",
       "}}\n",
       "\n",
       "                        })                };                });            </script>        </div>"
      ]
     },
     "metadata": {},
     "output_type": "display_data"
    }
   ],
   "source": [
    "# Plot\n",
    "fig = px.scatter(poss_per_min_df, x=poss_per_min_df.index, y=poss_per_min_df[\"POSS_PER_MIN\"])\n",
    "fig.update_layout(\n",
    "    paper_bgcolor='rgba(0,0,0,0)',\n",
    "    plot_bgcolor='rgba(0,0,0,0)',\n",
    ")\n",
    "fig.show()"
   ]
  },
  {
   "cell_type": "markdown",
   "id": "5575366d-5b6a-4b9f-98ac-30e38818efce",
   "metadata": {},
   "source": [
    "## Boxplots\n",
    "We can get a better visualization (not only averages) by using boxplots. Let's get the color for each team from [teamcolorcodes.com](https://teamcolorcodes.com/nba-team-color-codes/), there is a script that does this but we also store the information in a CSV file."
   ]
  },
  {
   "cell_type": "code",
   "execution_count": 120,
   "id": "dc12da07-08fb-436e-9dc2-38921cec020d",
   "metadata": {},
   "outputs": [
    {
     "data": {
      "text/html": [
       "<div>\n",
       "<style scoped>\n",
       "    .dataframe tbody tr th:only-of-type {\n",
       "        vertical-align: middle;\n",
       "    }\n",
       "\n",
       "    .dataframe tbody tr th {\n",
       "        vertical-align: top;\n",
       "    }\n",
       "\n",
       "    .dataframe thead th {\n",
       "        text-align: right;\n",
       "    }\n",
       "</style>\n",
       "<table border=\"1\" class=\"dataframe\">\n",
       "  <thead>\n",
       "    <tr style=\"text-align: right;\">\n",
       "      <th></th>\n",
       "      <th>team</th>\n",
       "      <th>color</th>\n",
       "      <th>border_color</th>\n",
       "    </tr>\n",
       "  </thead>\n",
       "  <tbody>\n",
       "    <tr>\n",
       "      <th>0</th>\n",
       "      <td>Atlanta Hawks</td>\n",
       "      <td>#E03A3E</td>\n",
       "      <td>#C1D32F</td>\n",
       "    </tr>\n",
       "    <tr>\n",
       "      <th>1</th>\n",
       "      <td>Boston Celtics</td>\n",
       "      <td>#007a33</td>\n",
       "      <td>#BA9653</td>\n",
       "    </tr>\n",
       "    <tr>\n",
       "      <th>2</th>\n",
       "      <td>Brooklyn Nets</td>\n",
       "      <td>#000</td>\n",
       "      <td>#000</td>\n",
       "    </tr>\n",
       "    <tr>\n",
       "      <th>3</th>\n",
       "      <td>Charlotte Hornets</td>\n",
       "      <td>#1D1160</td>\n",
       "      <td>#00788c</td>\n",
       "    </tr>\n",
       "    <tr>\n",
       "      <th>4</th>\n",
       "      <td>Chicago Bulls</td>\n",
       "      <td>#CE1141</td>\n",
       "      <td>#000</td>\n",
       "    </tr>\n",
       "  </tbody>\n",
       "</table>\n",
       "</div>"
      ],
      "text/plain": [
       "                team     color  border_color\n",
       "0      Atlanta Hawks   #E03A3E       #C1D32F\n",
       "1     Boston Celtics   #007a33       #BA9653\n",
       "2      Brooklyn Nets      #000          #000\n",
       "3  Charlotte Hornets   #1D1160       #00788c\n",
       "4      Chicago Bulls   #CE1141          #000"
      ]
     },
     "execution_count": 120,
     "metadata": {},
     "output_type": "execute_result"
    }
   ],
   "source": [
    "team_colors = pd.read_csv(\"team_colors.csv\")\n",
    "team_colors.head()"
   ]
  },
  {
   "cell_type": "markdown",
   "id": "0c5652ae-e03f-4cc7-a83f-f4b4f68034c0",
   "metadata": {},
   "source": [
    "We have different amounts of teams on each DF (due to name changes in the last years), we will need to make some arrangements."
   ]
  },
  {
   "cell_type": "code",
   "execution_count": 124,
   "id": "3249965e-636b-4abe-bc18-211562c15895",
   "metadata": {},
   "outputs": [
    {
     "data": {
      "text/plain": [
       "(36, 31)"
      ]
     },
     "execution_count": 124,
     "metadata": {},
     "output_type": "execute_result"
    }
   ],
   "source": [
    "df[\"TEAM_NAME\"].nunique(), team_colors[\"team\"].nunique()"
   ]
  },
  {
   "cell_type": "code",
   "execution_count": 126,
   "id": "370ea89a-2123-4b0c-bc1b-c87b8a2fb92c",
   "metadata": {},
   "outputs": [
    {
     "data": {
      "text/plain": [
       "array(['Atlanta Hawks', 'Boston Celtics', 'Charlotte Hornets',\n",
       "       'Chicago Bulls', 'Cleveland Cavaliers', 'Dallas Mavericks',\n",
       "       'Denver Nuggets', 'Detroit Pistons', 'Golden State Warriors',\n",
       "       'Houston Rockets', 'Indiana Pacers', 'Los Angeles Clippers',\n",
       "       'Los Angeles Lakers', 'Memphis Grizzlies', 'Miami Heat',\n",
       "       'Milwaukee Bucks', 'Minnesota Timberwolves', 'New Jersey Nets',\n",
       "       'New York Knicks', 'Orlando Magic', 'Philadelphia 76ers',\n",
       "       'Phoenix Suns', 'Portland Trail Blazers', 'Sacramento Kings',\n",
       "       'San Antonio Spurs', 'Seattle SuperSonics', 'Toronto Raptors',\n",
       "       'Utah Jazz', 'Washington Wizards', 'New Orleans Hornets',\n",
       "       'Charlotte Bobcats', 'New Orleans/Oklahoma City Hornets',\n",
       "       'Oklahoma City Thunder', 'Brooklyn Nets', 'New Orleans Pelicans',\n",
       "       'LA Clippers'], dtype=object)"
      ]
     },
     "execution_count": 126,
     "metadata": {},
     "output_type": "execute_result"
    }
   ],
   "source": [
    "df[\"TEAM_NAME\"].unique()"
   ]
  },
  {
   "cell_type": "code",
   "execution_count": 127,
   "id": "e27f7bba-9952-4e6b-85be-0f3e0c0eb026",
   "metadata": {},
   "outputs": [
    {
     "name": "stdout",
     "output_type": "stream",
     "text": [
      "31 31\n"
     ]
    }
   ],
   "source": [
    "df.replace({\n",
    "    \"LA Clippers\": \"Los Angeles Clippers\",\n",
    "    \"Charlotte Bobcats\": \"Charlotte Hornets\",\n",
    "    \"New Orleans Hornets\": \"New Orleans Pelicans\",\n",
    "    \"New Orleans/Oklahoma City Hornets\": \"New Orleans Pelicans\",\n",
    "    \"New Jersey Nets\": \"Brooklyn Nets\",\n",
    "}, inplace=True)\n",
    "team_colors.replace({\"Seattle Supersonics\": \"Seattle SuperSonics\"}, inplace=True)\n",
    "print(df[\"TEAM_NAME\"].nunique(), team_colors[\"team\"].nunique())"
   ]
  },
  {
   "cell_type": "markdown",
   "id": "f6ece0d9-f521-428b-bcf8-c1592373261d",
   "metadata": {},
   "source": [
    "We now have 31 teams (we will give the SuperSonics their chance to appear).\n",
    "Let's merge the 2 DFs"
   ]
  },
  {
   "cell_type": "code",
   "execution_count": 132,
   "id": "344c3218-0dd9-4045-91a2-234c65adb4c7",
   "metadata": {},
   "outputs": [],
   "source": [
    "df = df.merge(team_colors, left_on=\"TEAM_NAME\", right_on=\"team\")"
   ]
  },
  {
   "cell_type": "code",
   "execution_count": 165,
   "id": "a8a4efe8-7867-44e5-a501-40dad00323f9",
   "metadata": {},
   "outputs": [
    {
     "data": {
      "application/vnd.plotly.v1+json": {
       "config": {
        "plotlyServerURL": "https://plot.ly"
       },
       "data": [
        {
         "boxpoints": false,
         "line": {
          "color": "grey"
         },
         "marker": {
          "color": "lightgrey"
         },
         "showlegend": false,
         "type": "box",
         "x": [
          2002,
          2003,
          2004,
          2005,
          2006,
          2007,
          2008,
          2009,
          2010,
          2011,
          2012,
          2013,
          2014,
          2015,
          2016,
          2017,
          2018,
          2019,
          2020,
          2021,
          2002,
          2003,
          2004,
          2005,
          2006,
          2007,
          2008,
          2009,
          2010,
          2011,
          2012,
          2013,
          2014,
          2015,
          2016,
          2017,
          2018,
          2019,
          2020,
          2021,
          2002,
          2005,
          2006,
          2007,
          2008,
          2009,
          2010,
          2011,
          2012,
          2013,
          2014,
          2015,
          2016,
          2017,
          2018,
          2019,
          2020,
          2021,
          2002,
          2003,
          2004,
          2005,
          2006,
          2007,
          2008,
          2009,
          2010,
          2011,
          2012,
          2013,
          2014,
          2015,
          2016,
          2017,
          2018,
          2019,
          2020,
          2021,
          2002,
          2003,
          2004,
          2005,
          2006,
          2007,
          2008,
          2009,
          2010,
          2011,
          2012,
          2013,
          2014,
          2015,
          2016,
          2017,
          2018,
          2019,
          2020,
          2021,
          2002,
          2003,
          2004,
          2005,
          2006,
          2007,
          2008,
          2009,
          2010,
          2011,
          2012,
          2013,
          2014,
          2015,
          2016,
          2017,
          2018,
          2019,
          2020,
          2021,
          2002,
          2003,
          2004,
          2005,
          2006,
          2007,
          2008,
          2009,
          2010,
          2011,
          2012,
          2013,
          2014,
          2015,
          2016,
          2017,
          2018,
          2019,
          2020,
          2021,
          2002,
          2003,
          2004,
          2005,
          2006,
          2007,
          2008,
          2009,
          2010,
          2011,
          2012,
          2013,
          2014,
          2015,
          2016,
          2017,
          2018,
          2019,
          2020,
          2021,
          2002,
          2003,
          2004,
          2005,
          2006,
          2007,
          2008,
          2009,
          2010,
          2011,
          2012,
          2013,
          2014,
          2015,
          2016,
          2017,
          2018,
          2019,
          2020,
          2021,
          2002,
          2003,
          2004,
          2005,
          2006,
          2007,
          2008,
          2009,
          2010,
          2011,
          2012,
          2013,
          2014,
          2015,
          2016,
          2017,
          2018,
          2019,
          2020,
          2021,
          2002,
          2003,
          2004,
          2005,
          2006,
          2007,
          2008,
          2009,
          2010,
          2011,
          2012,
          2013,
          2014,
          2015,
          2016,
          2017,
          2018,
          2019,
          2020,
          2021,
          2002,
          2003,
          2004,
          2005,
          2006,
          2007,
          2008,
          2009,
          2010,
          2011,
          2012,
          2013,
          2014,
          2015,
          2016,
          2017,
          2018,
          2019,
          2020,
          2021,
          2002,
          2003,
          2004,
          2005,
          2006,
          2007,
          2008,
          2009,
          2010,
          2011,
          2012,
          2013,
          2014,
          2015,
          2016,
          2017,
          2018,
          2019,
          2020,
          2021,
          2002,
          2003,
          2004,
          2005,
          2006,
          2007,
          2008,
          2009,
          2010,
          2011,
          2012,
          2013,
          2014,
          2015,
          2016,
          2017,
          2018,
          2019,
          2020,
          2021,
          2002,
          2003,
          2004,
          2005,
          2006,
          2007,
          2008,
          2009,
          2010,
          2011,
          2012,
          2013,
          2014,
          2015,
          2016,
          2017,
          2018,
          2019,
          2020,
          2021,
          2002,
          2003,
          2004,
          2005,
          2006,
          2007,
          2008,
          2009,
          2010,
          2011,
          2012,
          2013,
          2014,
          2015,
          2016,
          2017,
          2018,
          2019,
          2020,
          2021,
          2002,
          2003,
          2004,
          2005,
          2006,
          2007,
          2008,
          2009,
          2010,
          2011,
          2012,
          2013,
          2014,
          2015,
          2016,
          2017,
          2018,
          2019,
          2020,
          2021,
          2002,
          2003,
          2004,
          2005,
          2006,
          2007,
          2008,
          2009,
          2010,
          2011,
          2012,
          2013,
          2014,
          2015,
          2016,
          2017,
          2018,
          2019,
          2020,
          2021,
          2002,
          2003,
          2004,
          2005,
          2006,
          2007,
          2008,
          2009,
          2010,
          2011,
          2012,
          2013,
          2014,
          2015,
          2016,
          2017,
          2018,
          2019,
          2020,
          2021,
          2002,
          2003,
          2004,
          2005,
          2006,
          2007,
          2008,
          2009,
          2010,
          2011,
          2012,
          2013,
          2014,
          2015,
          2016,
          2017,
          2018,
          2019,
          2020,
          2021,
          2002,
          2003,
          2004,
          2005,
          2006,
          2007,
          2008,
          2009,
          2010,
          2011,
          2012,
          2013,
          2014,
          2015,
          2016,
          2017,
          2018,
          2019,
          2020,
          2021,
          2002,
          2003,
          2004,
          2005,
          2006,
          2007,
          2008,
          2009,
          2010,
          2011,
          2012,
          2013,
          2014,
          2015,
          2016,
          2017,
          2018,
          2019,
          2020,
          2021,
          2002,
          2003,
          2004,
          2005,
          2006,
          2007,
          2008,
          2009,
          2010,
          2011,
          2012,
          2013,
          2014,
          2015,
          2016,
          2017,
          2018,
          2019,
          2020,
          2021,
          2002,
          2003,
          2004,
          2005,
          2006,
          2007,
          2008,
          2009,
          2010,
          2011,
          2012,
          2013,
          2014,
          2015,
          2016,
          2017,
          2018,
          2019,
          2020,
          2021,
          2002,
          2003,
          2004,
          2005,
          2006,
          2007,
          2008,
          2009,
          2010,
          2011,
          2012,
          2013,
          2014,
          2015,
          2016,
          2017,
          2018,
          2019,
          2020,
          2021,
          2002,
          2003,
          2004,
          2005,
          2006,
          2007,
          2008,
          2002,
          2003,
          2004,
          2005,
          2006,
          2007,
          2008,
          2009,
          2010,
          2011,
          2012,
          2013,
          2014,
          2015,
          2016,
          2017,
          2018,
          2019,
          2020,
          2021,
          2002,
          2003,
          2004,
          2005,
          2006,
          2007,
          2008,
          2009,
          2010,
          2011,
          2012,
          2013,
          2014,
          2015,
          2016,
          2017,
          2018,
          2019,
          2020,
          2021,
          2002,
          2003,
          2004,
          2005,
          2006,
          2007,
          2008,
          2009,
          2010,
          2011,
          2012,
          2013,
          2014,
          2015,
          2016,
          2017,
          2018,
          2019,
          2020,
          2021,
          2003,
          2004,
          2005,
          2006,
          2007,
          2008,
          2009,
          2010,
          2011,
          2012,
          2013,
          2014,
          2015,
          2016,
          2017,
          2018,
          2019,
          2020,
          2021,
          2009,
          2010,
          2011,
          2012,
          2013,
          2014,
          2015,
          2016,
          2017,
          2018,
          2019,
          2020,
          2021
         ],
         "y": [
          1.9408493427704752,
          1.9299171062547098,
          1.9291635267520724,
          1.937799043062201,
          1.9132293762575452,
          1.8946177062374245,
          1.922437673130194,
          1.8848008119766557,
          1.8924704104759507,
          1.8778509883426255,
          1.8920507268790596,
          1.9501385041551247,
          1.9899142713061018,
          1.9703497212366954,
          2.0320221886031264,
          2.0349597585513077,
          2.0588683075361582,
          2.1762780156131956,
          2.1495700245700244,
          2.056880206837116,
          1.951084215834594,
          1.9167927382753405,
          1.9682821618878457,
          1.971579476861167,
          1.9421529175050303,
          1.9340216570133468,
          1.9172361427486713,
          1.9014084507042253,
          1.9234074823053589,
          1.8958543983822043,
          1.8993099121706398,
          1.9284274193548387,
          1.962747085656361,
          2.0138329979879277,
          2.070525783619818,
          2.026069349531764,
          2.016409997475385,
          2.0935288169868556,
          2.0811818703384968,
          2.0632911392405062,
          1.8931915970640345,
          1.9474346076458753,
          1.9721175584024115,
          1.939015246188453,
          1.9310865191146882,
          1.8567486201705972,
          1.8910965794768613,
          1.8793234031810149,
          1.9131529263687854,
          1.9267861651098208,
          1.9372017081135393,
          1.9475006279829188,
          2.0060438176781665,
          2.000504286434695,
          2.0583923154701718,
          2.0680786686838126,
          2.0053968253968253,
          2.062518006338231,
          1.9058318606412523,
          1.9716436637390213,
          1.9399899142713062,
          1.9432677760968229,
          1.9497613664908315,
          1.9691607684529828,
          1.9575864680636204,
          1.960863020572002,
          1.9577995478522985,
          1.9016641452344931,
          1.8764115432873274,
          1.880988401412002,
          1.893878575012544,
          1.955482897384306,
          2.011554885707109,
          2.001769464105157,
          2.054898010576681,
          2.0678221552373777,
          2.0934609250398726,
          2.0771001150747987,
          1.9020397884663813,
          1.984367120524458,
          1.908083606144548,
          1.8927222362125409,
          1.8935955622793748,
          1.9109657947686116,
          1.8987660538907076,
          1.8693124368048535,
          1.9143073811931244,
          1.9526702100733992,
          1.9229564672721577,
          1.94272681196148,
          1.9528349222277972,
          1.941860465116279,
          1.9551750188869303,
          2.016851106639839,
          2.0562595032944753,
          2.0301189572260188,
          2.065818759936407,
          2.0387263339070567,
          1.9675553319919517,
          1.9529828109201213,
          1.9727341580408988,
          1.9637607704004054,
          1.8604124748490947,
          1.8921791951404707,
          1.9052204764318297,
          1.9315829336026256,
          1.9509557344064385,
          1.9236234458259325,
          1.9281045751633987,
          1.9812312312312312,
          1.9798285426122038,
          2.006036217303823,
          1.987003249187703,
          1.9383215369059656,
          2.009341075485988,
          2.076845298281092,
          2.0822558459422282,
          2.040450736781277,
          1.9028023226457964,
          1.9178915357323871,
          1.9731373542828181,
          1.9721589471019996,
          1.9761665830406423,
          2.0457532861476238,
          2.0977083857970285,
          1.9888494678155093,
          1.9908998988877655,
          2.001522456229383,
          1.9781795511221945,
          1.9994976136649083,
          2.061756517337383,
          2.0148390342052314,
          2.007816439737771,
          2.0670716274360923,
          2.035965794768612,
          2.0516979219462748,
          2.0335305719921104,
          2.0374713958810067,
          1.9042174796747968,
          1.8382316001004773,
          1.8617290192113245,
          1.8451515910799299,
          1.832576903681291,
          1.8440643863179074,
          1.8446528129751647,
          1.8342125094197437,
          1.865267947421638,
          1.8682092555331993,
          1.8791105543376134,
          1.911386013632921,
          1.9903943377148634,
          1.9518406454866364,
          1.9974849094567404,
          1.9919212320121182,
          2.0148952284776573,
          2.0400402921178546,
          2.0378953961791417,
          2.0458978772231786,
          1.9944388270980788,
          1.9987344975955454,
          1.8975069252077563,
          1.9668425018839488,
          1.966717095310136,
          2.082510756770438,
          2.0851870576339735,
          2.074195171026157,
          2.113025848960973,
          1.9959657085224407,
          1.9516179704681118,
          1.992678616510982,
          2.028492183560262,
          2.0704510897110997,
          2.0882796780684103,
          2.0927704752275025,
          2.090978205778003,
          2.118151981822772,
          2.1058823529411765,
          2.14157757873447,
          1.8658658658658658,
          1.8835925740090316,
          1.8524836929252384,
          1.8803827751196172,
          1.8552697932425617,
          1.9133719466129437,
          1.9069944247339077,
          1.90154001514769,
          1.9736247174076864,
          1.9818913480885312,
          1.9343292872704638,
          2.019211324570273,
          2.027231467473525,
          2.0290330724564503,
          2.052193645990923,
          2.095298281092012,
          2.044545684636801,
          2.049924357034796,
          2.168872266973533,
          2.114995665992488,
          1.9394624466214518,
          1.9331826174328057,
          1.845746023731381,
          1.8465209746294902,
          1.8930562595032945,
          1.9456521739130435,
          2.0528980005062007,
          2.0264750378214824,
          2.0360314640954074,
          1.987866531850354,
          1.91213258286429,
          1.8938233792751404,
          1.935288169868554,
          1.952404935784437,
          2.0291750503018107,
          2.0118358096197433,
          2.0189825360668183,
          2.054554681552905,
          2.071225879682179,
          2.125179031796047,
          1.8995203231507196,
          1.926853961022526,
          1.9247664731128502,
          1.888167748377434,
          1.937642009593537,
          1.9143436391282311,
          1.943448624084827,
          1.942404426559356,
          1.9462065465617864,
          1.9435910350037773,
          1.875665518321328,
          1.9138367967562089,
          2.0131612250063275,
          1.9878357830714648,
          2.0158850226928897,
          2.0167046317388,
          2.0723166708957117,
          2.136913767019667,
          2.1277330264672036,
          2.0358796296296298,
          1.9441354903943378,
          1.9560963371801305,
          1.9463611181062705,
          1.9236602628918098,
          1.9219340216570133,
          1.9715426859710434,
          2.0156723963599594,
          1.9903943377148634,
          1.953857791225416,
          1.9147755925365608,
          1.912542794895736,
          1.9817767653758542,
          2.074854097944684,
          1.9799297541394882,
          2.009630005068424,
          2.066226845978178,
          2.1002260738507914,
          2.1572295247724975,
          2.109713282621416,
          2.0578630764823833,
          1.928463094034378,
          1.960110386352233,
          1.9290744466800804,
          1.8662775945191576,
          1.8212037270209016,
          1.9727227227227226,
          2.00580661449129,
          1.9005301691492047,
          1.963325797538307,
          1.9255533199195172,
          1.913111668757842,
          1.8667003281999495,
          1.8874021711688966,
          1.9331826174328057,
          1.9573877962682804,
          1.9346897764380808,
          1.995686374016747,
          2.021629778672032,
          2.151963574274331,
          2.0976730824475727,
          1.8429503261414952,
          1.8540090771558244,
          1.8630726398380157,
          1.9136636636636637,
          1.9291318653505443,
          1.8894485016368674,
          1.9006555723651033,
          1.8910047607116012,
          1.8825452716297786,
          1.9120323559150658,
          1.9183291770573565,
          1.904426559356137,
          1.915241448692153,
          1.907247845919919,
          1.9614220877458397,
          1.9906471183013144,
          2.003261414952333,
          2.0582868727825647,
          2.0586080586080584,
          2.0241657077100115,
          1.9068073348404924,
          1.9108264255212257,
          1.941860465116279,
          1.9170879676440848,
          1.9254595819692772,
          1.9413246033744649,
          1.9274741878619994,
          1.955510616784631,
          1.9264264264264264,
          1.8852748361069087,
          1.9716356760163882,
          1.9942007060010085,
          1.9328470824949697,
          1.9736578023080782,
          1.9813414019162885,
          1.9787664307381194,
          2.020423600605144,
          2.1569767441860463,
          2.199204319408923,
          2.1416618580496247,
          1.91315324413027,
          1.939156778591265,
          1.8833206783092888,
          1.8830675778283978,
          1.865776882397381,
          1.9217695576105973,
          1.9341104916371008,
          1.9300681646048978,
          2.0227502527805865,
          2.0308392315470174,
          1.9661229611041404,
          1.954384186517993,
          2.049609670108285,
          1.987629386518556,
          2.0032696177062372,
          1.986872002019692,
          2.015905074476142,
          2.1031265758951085,
          2.16452442159383,
          2.122665900603275,
          1.9432677760968229,
          1.9390027841052897,
          1.8967267191068258,
          1.8841999497613664,
          1.8991405460060666,
          1.9320925553319919,
          1.9362077660110943,
          1.8986384266263236,
          1.9282103134479271,
          1.8902774306423393,
          1.8993077407174324,
          1.8718207000755478,
          1.9273138832997987,
          1.9510787757150025,
          2.000253100480891,
          2.1187041255378385,
          2.0745404180307228,
          2.115115115115115,
          2.1178489702517163,
          2.091353059465671,
          1.8901792476647312,
          1.9166456811886174,
          1.9021629778672031,
          1.9200201207243461,
          1.9149523331660814,
          1.9147713071732066,
          1.9305835010060362,
          2.0363544559454683,
          1.9798792756539236,
          2.0083417593528816,
          1.9579673776662485,
          1.8910288900152052,
          1.9027952656761522,
          1.9184084613447494,
          1.959858621560212,
          2.0120876353563335,
          2.0320221886031264,
          2.083923154701719,
          2.0651424992170373,
          2.006310958118187,
          1.9679778113968733,
          1.9661701590507448,
          1.9183055975794252,
          2.002283684344075,
          1.857573474001507,
          1.8870070778564205,
          1.9608190091001012,
          1.9384186517992905,
          1.9295489102889,
          1.9099848714069592,
          1.8722204823050423,
          1.9327603640040445,
          1.9636682535705337,
          1.9673500379650721,
          2.014066817382567,
          2.0169149204746275,
          2.0516979219462748,
          2.0558645096056622,
          2.06459874786568,
          2.0652048470859783,
          1.8813988849467815,
          1.9375472173256107,
          1.8582221102996725,
          2.010828506673382,
          1.9542828435066566,
          1.9129778672032194,
          1.9073652239939256,
          1.9012908124525436,
          1.9308255491037616,
          1.9340190667335675,
          1.8900408419729815,
          1.914958238420653,
          2.0740367665575423,
          2.0070689219893967,
          2.0497349154253977,
          2.062279374684821,
          2.097826086956522,
          2.137591517293613,
          2.075589656152316,
          2.0860585197934594,
          1.932173474533535,
          1.9280484726079272,
          1.951089711099848,
          2.0308392315470174,
          2.0212979203207215,
          2.0100477267018335,
          2.0369059656218402,
          2.020754239433055,
          2.0114039533705017,
          1.9820044988752812,
          1.94854797979798,
          1.9674324665488514,
          2.0179701341432548,
          2.0266599597585513,
          2.068510530322253,
          2.097831568330812,
          2.1042882517127635,
          2.1053822937625752,
          2.1167945439045184,
          2.041475972540046,
          1.886535552193646,
          1.8856423173803527,
          1.8240740740740742,
          1.8958438925494172,
          1.8520020273694882,
          1.8619393635680281,
          1.8540567696558654,
          1.8338376197680282,
          1.8481490808360614,
          1.8578641757132037,
          1.9238960225493267,
          1.9262150591790481,
          1.9969780911609167,
          1.9813648954923193,
          2.0227215349659176,
          2.029101856497742,
          2.0227790432801824,
          2.0823470158650212,
          2.1079338379590693,
          2.0621207743426755,
          2.012401923563655,
          2.01386787695411,
          1.9628412537917088,
          1.9690254343993956,
          1.9417549167927384,
          1.9939409240090886,
          1.9969742813918305,
          1.9846772167797035,
          1.9756036217303823,
          1.9952153110047848,
          1.9896324222431667,
          1.9677256681795259,
          1.9768028240040343,
          2.0025182573659026,
          2.0959353698560967,
          1.9896881287726358,
          1.9893697798025816,
          2.1654840344652815,
          2.0736178745345173,
          2.099393238948281,
          1.8957441450516244,
          1.9056984367120524,
          1.880030372057707,
          1.8770512496844232,
          1.8636707902044938,
          1.8806875631951465,
          1.8694880892042576,
          1.857573474001507,
          1.922396359959555,
          1.9441354903943378,
          1.9510664993726474,
          1.9849094567404426,
          1.9962034927866363,
          1.9694312202455524,
          1.970819588936818,
          1.9772784650340822,
          1.9936644703497213,
          2.060590759909114,
          2.1054313099041533,
          2.0697940503432495,
          1.8830055471507816,
          1.8582221102996725,
          1.904064630143903,
          1.8610478359908884,
          1.938729198184569,
          1.934947049924357,
          2.0247100353000502,
          1.876486965325234,
          1.8952284776571573,
          1.8388388388388388,
          1.9596061600605907,
          1.9238286143823604,
          1.9536826119969628,
          1.9019162884518406,
          1.9431961625852057,
          1.9580384226491405,
          1.9522244691607684,
          1.8816160350767304,
          1.8996496496496496,
          1.9283387622149837,
          1.9481238982624025,
          1.9481799797775532,
          1.9886248736097067,
          2.043368633383762,
          2.096076458752515,
          2.1081703107019565,
          2.073678127708755,
          1.9117498739283914,
          1.8915571284125379,
          1.8379676440849342,
          1.8728513650151668,
          1.8606639839034205,
          1.9341075485988386,
          1.9723420451662015,
          1.9685613682092555,
          1.9719058466211086,
          1.9162474849094568,
          1.928858645221157,
          1.9187625754527162,
          1.922396359959555,
          1.8995178888606952,
          1.9105487346529693,
          1.9182485446722348,
          2.012401923563655,
          2.102758795241711,
          2.0653990204552004,
          2.072313454335926,
          1.874049670552458,
          1.8633383761976803,
          1.954362077660111,
          1.9757330637007078,
          1.9520927887039838,
          1.984367120524458,
          1.8922381311228336,
          1.9223547323014463,
          1.9304084720121029,
          1.9746613146011038,
          1.948313898518752,
          1.938806346008562,
          1.962602842183994,
          1.9654221999498873,
          2.0660592255125283,
          2.042054898010577,
          2.0365147318055907,
          2.128951329653788,
          2.153558052434457,
          2.1789715598965813,
          1.8894750062798291,
          1.8850226928895613,
          1.8519819367787256,
          1.8788184801817722,
          1.8991448692152917,
          1.8977530926533703,
          1.8483928119463426,
          1.9467977811396873,
          1.862581946545638,
          1.8582183186951067,
          1.865267947421638,
          1.9398136489549231,
          1.923154701718908,
          2.032608695652174,
          2.0530017583521727,
          2.115509897268855,
          2.164768413059985,
          2.1652323580034425,
          2.0949512335054505,
          1.9795506185306742,
          1.9626356980560464,
          1.9555111222194452,
          1.9615384615384615,
          1.9687342410489157,
          2.008078767987882,
          2.0141200201714575,
          2.0325264750378214,
          2.0446856854329716,
          2.026222894604135,
          2.1528582221102996,
          2.0705679862306368,
          2.118409680207433
         ]
        },
        {
         "hoverinfo": "name+y",
         "marker": {
          "color": " #E03A3E",
          "line": {
           "color": " #C1D32F",
           "width": 2
          },
          "opacity": 0.9,
          "size": 9
         },
         "mode": "markers",
         "name": "Atlanta Hawks",
         "showlegend": true,
         "text": "Atlanta Hawks",
         "type": "scatter",
         "x": [
          2002,
          2003,
          2004,
          2005,
          2006,
          2007,
          2008,
          2009,
          2010,
          2011,
          2012,
          2013,
          2014,
          2015,
          2016,
          2017,
          2018,
          2019,
          2020,
          2021
         ],
         "y": [
          1.9408493427704752,
          1.9299171062547098,
          1.9291635267520724,
          1.937799043062201,
          1.9132293762575452,
          1.8946177062374245,
          1.922437673130194,
          1.8848008119766557,
          1.8924704104759507,
          1.8778509883426255,
          1.8920507268790596,
          1.9501385041551247,
          1.9899142713061018,
          1.9703497212366954,
          2.0320221886031264,
          2.0349597585513077,
          2.0588683075361582,
          2.1762780156131956,
          2.1495700245700244,
          2.056880206837116
         ]
        },
        {
         "hoverinfo": "name+y",
         "marker": {
          "color": " #007a33",
          "line": {
           "color": " #BA9653",
           "width": 2
          },
          "opacity": 0.9,
          "size": 9
         },
         "mode": "markers",
         "name": "Boston Celtics",
         "showlegend": true,
         "text": "Boston Celtics",
         "type": "scatter",
         "x": [
          2002,
          2003,
          2004,
          2005,
          2006,
          2007,
          2008,
          2009,
          2010,
          2011,
          2012,
          2013,
          2014,
          2015,
          2016,
          2017,
          2018,
          2019,
          2020,
          2021
         ],
         "y": [
          1.951084215834594,
          1.9167927382753405,
          1.9682821618878457,
          1.971579476861167,
          1.9421529175050303,
          1.9340216570133468,
          1.9172361427486713,
          1.9014084507042253,
          1.9234074823053589,
          1.8958543983822043,
          1.8993099121706398,
          1.9284274193548387,
          1.962747085656361,
          2.0138329979879277,
          2.070525783619818,
          2.026069349531764,
          2.016409997475385,
          2.0935288169868556,
          2.0811818703384968,
          2.0632911392405062
         ]
        },
        {
         "hoverinfo": "name+y",
         "marker": {
          "color": " #000",
          "line": {
           "color": " #000",
           "width": 2
          },
          "opacity": 0.9,
          "size": 9
         },
         "mode": "markers",
         "name": "Brooklyn Nets",
         "showlegend": true,
         "text": "Brooklyn Nets",
         "type": "scatter",
         "x": [
          2002,
          2003,
          2004,
          2005,
          2006,
          2007,
          2008,
          2009,
          2010,
          2011,
          2012,
          2013,
          2014,
          2015,
          2016,
          2017,
          2018,
          2019,
          2020,
          2021
         ],
         "y": [
          1.9432677760968229,
          1.9390027841052897,
          1.8967267191068258,
          1.8841999497613664,
          1.8991405460060666,
          1.9320925553319919,
          1.9362077660110943,
          1.8986384266263236,
          1.9282103134479271,
          1.8902774306423393,
          1.8993077407174324,
          1.8718207000755478,
          1.9273138832997987,
          1.9510787757150025,
          2.000253100480891,
          2.1187041255378385,
          2.0745404180307228,
          2.115115115115115,
          2.1178489702517163,
          2.091353059465671
         ]
        },
        {
         "hoverinfo": "name+y",
         "marker": {
          "color": " #1D1160",
          "line": {
           "color": " #00788c",
           "width": 2
          },
          "opacity": 0.9,
          "size": 9
         },
         "mode": "markers",
         "name": "Charlotte Hornets",
         "showlegend": true,
         "text": "Charlotte Hornets",
         "type": "scatter",
         "x": [
          2002,
          2005,
          2006,
          2007,
          2008,
          2009,
          2010,
          2011,
          2012,
          2013,
          2014,
          2015,
          2016,
          2017,
          2018,
          2019,
          2020,
          2021
         ],
         "y": [
          1.8931915970640345,
          1.9474346076458753,
          1.9721175584024115,
          1.939015246188453,
          1.9310865191146882,
          1.8567486201705972,
          1.8910965794768613,
          1.8793234031810149,
          1.9131529263687854,
          1.9267861651098208,
          1.9372017081135393,
          1.9475006279829188,
          2.0060438176781665,
          2.000504286434695,
          2.0583923154701718,
          2.0680786686838126,
          2.0053968253968253,
          2.062518006338231
         ]
        },
        {
         "hoverinfo": "name+y",
         "marker": {
          "color": " #CE1141",
          "line": {
           "color": " #000",
           "width": 2
          },
          "opacity": 0.9,
          "size": 9
         },
         "mode": "markers",
         "name": "Chicago Bulls",
         "showlegend": true,
         "text": "Chicago Bulls",
         "type": "scatter",
         "x": [
          2002,
          2003,
          2004,
          2005,
          2006,
          2007,
          2008,
          2009,
          2010,
          2011,
          2012,
          2013,
          2014,
          2015,
          2016,
          2017,
          2018,
          2019,
          2020,
          2021
         ],
         "y": [
          1.9058318606412523,
          1.9716436637390213,
          1.9399899142713062,
          1.9432677760968229,
          1.9497613664908315,
          1.9691607684529828,
          1.9575864680636204,
          1.960863020572002,
          1.9577995478522985,
          1.9016641452344931,
          1.8764115432873274,
          1.880988401412002,
          1.893878575012544,
          1.955482897384306,
          2.011554885707109,
          2.001769464105157,
          2.054898010576681,
          2.0678221552373777,
          2.0934609250398726,
          2.0771001150747987
         ]
        },
        {
         "hoverinfo": "name+y",
         "marker": {
          "color": " #6f263d",
          "line": {
           "color": " #ffb81c",
           "width": 2
          },
          "opacity": 0.9,
          "size": 9
         },
         "mode": "markers",
         "name": "Cleveland Cavaliers",
         "showlegend": true,
         "text": "Cleveland Cavaliers",
         "type": "scatter",
         "x": [
          2002,
          2003,
          2004,
          2005,
          2006,
          2007,
          2008,
          2009,
          2010,
          2011,
          2012,
          2013,
          2014,
          2015,
          2016,
          2017,
          2018,
          2019,
          2020,
          2021
         ],
         "y": [
          1.9020397884663813,
          1.984367120524458,
          1.908083606144548,
          1.8927222362125409,
          1.8935955622793748,
          1.9109657947686116,
          1.8987660538907076,
          1.8693124368048535,
          1.9143073811931244,
          1.9526702100733992,
          1.9229564672721577,
          1.94272681196148,
          1.9528349222277972,
          1.941860465116279,
          1.9551750188869303,
          2.016851106639839,
          2.0562595032944753,
          2.0301189572260188,
          2.065818759936407,
          2.0387263339070567
         ]
        },
        {
         "hoverinfo": "name+y",
         "marker": {
          "color": " #00538C",
          "line": {
           "color": " #B8C4CA",
           "width": 2
          },
          "opacity": 0.9,
          "size": 9
         },
         "mode": "markers",
         "name": "Dallas Mavericks",
         "showlegend": true,
         "text": "Dallas Mavericks",
         "type": "scatter",
         "x": [
          2002,
          2003,
          2004,
          2005,
          2006,
          2007,
          2008,
          2009,
          2010,
          2011,
          2012,
          2013,
          2014,
          2015,
          2016,
          2017,
          2018,
          2019,
          2020,
          2021
         ],
         "y": [
          1.9675553319919517,
          1.9529828109201213,
          1.9727341580408988,
          1.9637607704004054,
          1.8604124748490947,
          1.8921791951404707,
          1.9052204764318297,
          1.9315829336026256,
          1.9509557344064385,
          1.9236234458259325,
          1.9281045751633987,
          1.9812312312312312,
          1.9798285426122038,
          2.006036217303823,
          1.987003249187703,
          1.9383215369059656,
          2.009341075485988,
          2.076845298281092,
          2.0822558459422282,
          2.040450736781277
         ]
        },
        {
         "hoverinfo": "name+y",
         "marker": {
          "color": " #00285E",
          "line": {
           "color": " #ffffff",
           "width": 2
          },
          "opacity": 0.9,
          "size": 9
         },
         "mode": "markers",
         "name": "Denver Nuggets",
         "showlegend": true,
         "text": "Denver Nuggets",
         "type": "scatter",
         "x": [
          2002,
          2003,
          2004,
          2005,
          2006,
          2007,
          2008,
          2009,
          2010,
          2011,
          2012,
          2013,
          2014,
          2015,
          2016,
          2017,
          2018,
          2019,
          2020,
          2021
         ],
         "y": [
          1.9028023226457964,
          1.9178915357323871,
          1.9731373542828181,
          1.9721589471019996,
          1.9761665830406423,
          2.0457532861476238,
          2.0977083857970285,
          1.9888494678155093,
          1.9908998988877655,
          2.001522456229383,
          1.9781795511221945,
          1.9994976136649083,
          2.061756517337383,
          2.0148390342052314,
          2.007816439737771,
          2.0670716274360923,
          2.035965794768612,
          2.0516979219462748,
          2.0335305719921104,
          2.0374713958810067
         ]
        },
        {
         "hoverinfo": "name+y",
         "marker": {
          "color": " #ED174C",
          "line": {
           "color": " #006BB6",
           "width": 2
          },
          "opacity": 0.9,
          "size": 9
         },
         "mode": "markers",
         "name": "Detroit Pistons",
         "showlegend": true,
         "text": "Detroit Pistons",
         "type": "scatter",
         "x": [
          2002,
          2003,
          2004,
          2005,
          2006,
          2007,
          2008,
          2009,
          2010,
          2011,
          2012,
          2013,
          2014,
          2015,
          2016,
          2017,
          2018,
          2019,
          2020,
          2021
         ],
         "y": [
          1.9042174796747968,
          1.8382316001004773,
          1.8617290192113245,
          1.8451515910799299,
          1.832576903681291,
          1.8440643863179074,
          1.8446528129751647,
          1.8342125094197437,
          1.865267947421638,
          1.8682092555331993,
          1.8791105543376134,
          1.911386013632921,
          1.9903943377148634,
          1.9518406454866364,
          1.9974849094567404,
          1.9919212320121182,
          2.0148952284776573,
          2.0400402921178546,
          2.0378953961791417,
          2.0458978772231786
         ]
        },
        {
         "hoverinfo": "name+y",
         "marker": {
          "color": " #006BB6",
          "line": {
           "color": " #fdb927",
           "width": 2
          },
          "opacity": 0.9,
          "size": 9
         },
         "mode": "markers",
         "name": "Golden State Warriors",
         "showlegend": true,
         "text": "Golden State Warriors",
         "type": "scatter",
         "x": [
          2002,
          2003,
          2004,
          2005,
          2006,
          2007,
          2008,
          2009,
          2010,
          2011,
          2012,
          2013,
          2014,
          2015,
          2016,
          2017,
          2018,
          2019,
          2020,
          2021
         ],
         "y": [
          1.9944388270980788,
          1.9987344975955454,
          1.8975069252077563,
          1.9668425018839488,
          1.966717095310136,
          2.082510756770438,
          2.0851870576339735,
          2.074195171026157,
          2.113025848960973,
          1.9959657085224407,
          1.9516179704681118,
          1.992678616510982,
          2.028492183560262,
          2.0704510897110997,
          2.0882796780684103,
          2.0927704752275025,
          2.090978205778003,
          2.118151981822772,
          2.1058823529411765,
          2.14157757873447
         ]
        },
        {
         "hoverinfo": "name+y",
         "marker": {
          "color": " #ce1141",
          "line": {
           "color": " #000000",
           "width": 2
          },
          "opacity": 0.9,
          "size": 9
         },
         "mode": "markers",
         "name": "Houston Rockets",
         "showlegend": true,
         "text": "Houston Rockets",
         "type": "scatter",
         "x": [
          2002,
          2003,
          2004,
          2005,
          2006,
          2007,
          2008,
          2009,
          2010,
          2011,
          2012,
          2013,
          2014,
          2015,
          2016,
          2017,
          2018,
          2019,
          2020,
          2021
         ],
         "y": [
          1.8658658658658658,
          1.8835925740090316,
          1.8524836929252384,
          1.8803827751196172,
          1.8552697932425617,
          1.9133719466129437,
          1.9069944247339077,
          1.90154001514769,
          1.9736247174076864,
          1.9818913480885312,
          1.9343292872704638,
          2.019211324570273,
          2.027231467473525,
          2.0290330724564503,
          2.052193645990923,
          2.095298281092012,
          2.044545684636801,
          2.049924357034796,
          2.168872266973533,
          2.114995665992488
         ]
        },
        {
         "hoverinfo": "name+y",
         "marker": {
          "color": " #002D62",
          "line": {
           "color": " #fdbb30",
           "width": 2
          },
          "opacity": 0.9,
          "size": 9
         },
         "mode": "markers",
         "name": "Indiana Pacers",
         "showlegend": true,
         "text": "Indiana Pacers",
         "type": "scatter",
         "x": [
          2002,
          2003,
          2004,
          2005,
          2006,
          2007,
          2008,
          2009,
          2010,
          2011,
          2012,
          2013,
          2014,
          2015,
          2016,
          2017,
          2018,
          2019,
          2020,
          2021
         ],
         "y": [
          1.9394624466214518,
          1.9331826174328057,
          1.845746023731381,
          1.8465209746294902,
          1.8930562595032945,
          1.9456521739130435,
          2.0528980005062007,
          2.0264750378214824,
          2.0360314640954074,
          1.987866531850354,
          1.91213258286429,
          1.8938233792751404,
          1.935288169868554,
          1.952404935784437,
          2.0291750503018107,
          2.0118358096197433,
          2.0189825360668183,
          2.054554681552905,
          2.071225879682179,
          2.125179031796047
         ]
        },
        {
         "hoverinfo": "name+y",
         "marker": {
          "color": " #ED174C",
          "line": {
           "color": " #006bb6",
           "width": 2
          },
          "opacity": 0.9,
          "size": 9
         },
         "mode": "markers",
         "name": "Los Angeles Clippers",
         "showlegend": true,
         "text": "Los Angeles Clippers",
         "type": "scatter",
         "x": [
          2002,
          2003,
          2004,
          2005,
          2006,
          2007,
          2008,
          2009,
          2010,
          2011,
          2012,
          2013,
          2014,
          2015,
          2016,
          2017,
          2018,
          2019,
          2020,
          2021
         ],
         "y": [
          1.8995203231507196,
          1.926853961022526,
          1.9247664731128502,
          1.888167748377434,
          1.937642009593537,
          1.9143436391282311,
          1.943448624084827,
          1.942404426559356,
          1.9462065465617864,
          1.9435910350037773,
          1.875665518321328,
          1.9138367967562089,
          2.0131612250063275,
          1.9878357830714648,
          2.0158850226928897,
          2.0167046317388,
          2.0723166708957117,
          2.136913767019667,
          2.1277330264672036,
          2.0358796296296298
         ]
        },
        {
         "hoverinfo": "name+y",
         "marker": {
          "color": " #552583",
          "line": {
           "color": " #ffc72c",
           "width": 2
          },
          "opacity": 0.9,
          "size": 9
         },
         "mode": "markers",
         "name": "Los Angeles Lakers",
         "showlegend": true,
         "text": "Los Angeles Lakers",
         "type": "scatter",
         "x": [
          2002,
          2003,
          2004,
          2005,
          2006,
          2007,
          2008,
          2009,
          2010,
          2011,
          2012,
          2013,
          2014,
          2015,
          2016,
          2017,
          2018,
          2019,
          2020,
          2021
         ],
         "y": [
          1.9441354903943378,
          1.9560963371801305,
          1.9463611181062705,
          1.9236602628918098,
          1.9219340216570133,
          1.9715426859710434,
          2.0156723963599594,
          1.9903943377148634,
          1.953857791225416,
          1.9147755925365608,
          1.912542794895736,
          1.9817767653758542,
          2.074854097944684,
          1.9799297541394882,
          2.009630005068424,
          2.066226845978178,
          2.1002260738507914,
          2.1572295247724975,
          2.109713282621416,
          2.0578630764823833
         ]
        },
        {
         "hoverinfo": "name+y",
         "marker": {
          "color": " #6189B9",
          "line": {
           "color": " #00285E",
           "width": 2
          },
          "opacity": 0.9,
          "size": 9
         },
         "mode": "markers",
         "name": "Memphis Grizzlies",
         "showlegend": true,
         "text": "Memphis Grizzlies",
         "type": "scatter",
         "x": [
          2002,
          2003,
          2004,
          2005,
          2006,
          2007,
          2008,
          2009,
          2010,
          2011,
          2012,
          2013,
          2014,
          2015,
          2016,
          2017,
          2018,
          2019,
          2020,
          2021
         ],
         "y": [
          1.928463094034378,
          1.960110386352233,
          1.9290744466800804,
          1.8662775945191576,
          1.8212037270209016,
          1.9727227227227226,
          2.00580661449129,
          1.9005301691492047,
          1.963325797538307,
          1.9255533199195172,
          1.913111668757842,
          1.8667003281999495,
          1.8874021711688966,
          1.9331826174328057,
          1.9573877962682804,
          1.9346897764380808,
          1.995686374016747,
          2.021629778672032,
          2.151963574274331,
          2.0976730824475727
         ]
        },
        {
         "hoverinfo": "name+y",
         "marker": {
          "color": " #98002e",
          "line": {
           "color": " #F9A01B",
           "width": 2
          },
          "opacity": 0.9,
          "size": 9
         },
         "mode": "markers",
         "name": "Miami Heat",
         "showlegend": true,
         "text": "Miami Heat",
         "type": "scatter",
         "x": [
          2002,
          2003,
          2004,
          2005,
          2006,
          2007,
          2008,
          2009,
          2010,
          2011,
          2012,
          2013,
          2014,
          2015,
          2016,
          2017,
          2018,
          2019,
          2020,
          2021
         ],
         "y": [
          1.8429503261414952,
          1.8540090771558244,
          1.8630726398380157,
          1.9136636636636637,
          1.9291318653505443,
          1.8894485016368674,
          1.9006555723651033,
          1.8910047607116012,
          1.8825452716297786,
          1.9120323559150658,
          1.9183291770573565,
          1.904426559356137,
          1.915241448692153,
          1.907247845919919,
          1.9614220877458397,
          1.9906471183013144,
          2.003261414952333,
          2.0582868727825647,
          2.0586080586080584,
          2.0241657077100115
         ]
        },
        {
         "hoverinfo": "name+y",
         "marker": {
          "color": " #00471b",
          "line": {
           "color": " #eee1c6",
           "width": 2
          },
          "opacity": 0.9,
          "size": 9
         },
         "mode": "markers",
         "name": "Milwaukee Bucks",
         "showlegend": true,
         "text": "Milwaukee Bucks",
         "type": "scatter",
         "x": [
          2002,
          2003,
          2004,
          2005,
          2006,
          2007,
          2008,
          2009,
          2010,
          2011,
          2012,
          2013,
          2014,
          2015,
          2016,
          2017,
          2018,
          2019,
          2020,
          2021
         ],
         "y": [
          1.9068073348404924,
          1.9108264255212257,
          1.941860465116279,
          1.9170879676440848,
          1.9254595819692772,
          1.9413246033744649,
          1.9274741878619994,
          1.955510616784631,
          1.9264264264264264,
          1.8852748361069087,
          1.9716356760163882,
          1.9942007060010085,
          1.9328470824949697,
          1.9736578023080782,
          1.9813414019162885,
          1.9787664307381194,
          2.020423600605144,
          2.1569767441860463,
          2.199204319408923,
          2.1416618580496247
         ]
        },
        {
         "hoverinfo": "name+y",
         "marker": {
          "color": " #0c2340",
          "line": {
           "color": " #236192",
           "width": 2
          },
          "opacity": 0.9,
          "size": 9
         },
         "mode": "markers",
         "name": "Minnesota Timberwolves",
         "showlegend": true,
         "text": "Minnesota Timberwolves",
         "type": "scatter",
         "x": [
          2002,
          2003,
          2004,
          2005,
          2006,
          2007,
          2008,
          2009,
          2010,
          2011,
          2012,
          2013,
          2014,
          2015,
          2016,
          2017,
          2018,
          2019,
          2020,
          2021
         ],
         "y": [
          1.91315324413027,
          1.939156778591265,
          1.8833206783092888,
          1.8830675778283978,
          1.865776882397381,
          1.9217695576105973,
          1.9341104916371008,
          1.9300681646048978,
          2.0227502527805865,
          2.0308392315470174,
          1.9661229611041404,
          1.954384186517993,
          2.049609670108285,
          1.987629386518556,
          2.0032696177062372,
          1.986872002019692,
          2.015905074476142,
          2.1031265758951085,
          2.16452442159383,
          2.122665900603275
         ]
        },
        {
         "hoverinfo": "name+y",
         "marker": {
          "color": " #002b5c",
          "line": {
           "color": " #E31837",
           "width": 2
          },
          "opacity": 0.9,
          "size": 9
         },
         "mode": "markers",
         "name": "New Orleans Pelicans",
         "showlegend": true,
         "text": "New Orleans Pelicans",
         "type": "scatter",
         "x": [
          2003,
          2004,
          2005,
          2006,
          2007,
          2008,
          2009,
          2010,
          2011,
          2012,
          2013,
          2014,
          2015,
          2016,
          2017,
          2018,
          2019,
          2020,
          2021
         ],
         "y": [
          1.8894750062798291,
          1.8850226928895613,
          1.8519819367787256,
          1.8788184801817722,
          1.8991448692152917,
          1.8977530926533703,
          1.8483928119463426,
          1.9467977811396873,
          1.862581946545638,
          1.8582183186951067,
          1.865267947421638,
          1.9398136489549231,
          1.923154701718908,
          2.032608695652174,
          2.0530017583521727,
          2.115509897268855,
          2.164768413059985,
          2.1652323580034425,
          2.0949512335054505
         ]
        },
        {
         "hoverinfo": "name+y",
         "marker": {
          "color": " #006BB6",
          "line": {
           "color": " #f58426",
           "width": 2
          },
          "opacity": 0.9,
          "size": 9
         },
         "mode": "markers",
         "name": "New York Knicks",
         "showlegend": true,
         "text": "New York Knicks",
         "type": "scatter",
         "x": [
          2002,
          2003,
          2004,
          2005,
          2006,
          2007,
          2008,
          2009,
          2010,
          2011,
          2012,
          2013,
          2014,
          2015,
          2016,
          2017,
          2018,
          2019,
          2020,
          2021
         ],
         "y": [
          1.8901792476647312,
          1.9166456811886174,
          1.9021629778672031,
          1.9200201207243461,
          1.9149523331660814,
          1.9147713071732066,
          1.9305835010060362,
          2.0363544559454683,
          1.9798792756539236,
          2.0083417593528816,
          1.9579673776662485,
          1.8910288900152052,
          1.9027952656761522,
          1.9184084613447494,
          1.959858621560212,
          2.0120876353563335,
          2.0320221886031264,
          2.083923154701719,
          2.0651424992170373,
          2.006310958118187
         ]
        },
        {
         "hoverinfo": "name+y",
         "marker": {
          "color": " #007AC1",
          "line": {
           "color": " #ef3b24",
           "width": 2
          },
          "opacity": 0.9,
          "size": 9
         },
         "mode": "markers",
         "name": "Oklahoma City Thunder",
         "showlegend": true,
         "text": "Oklahoma City Thunder",
         "type": "scatter",
         "x": [
          2009,
          2010,
          2011,
          2012,
          2013,
          2014,
          2015,
          2016,
          2017,
          2018,
          2019,
          2020,
          2021
         ],
         "y": [
          1.9795506185306742,
          1.9626356980560464,
          1.9555111222194452,
          1.9615384615384615,
          1.9687342410489157,
          2.008078767987882,
          2.0141200201714575,
          2.0325264750378214,
          2.0446856854329716,
          2.026222894604135,
          2.1528582221102996,
          2.0705679862306368,
          2.118409680207433
         ]
        },
        {
         "hoverinfo": "name+y",
         "marker": {
          "color": " #0057b8",
          "line": {
           "color": " #c2ccd2",
           "width": 2
          },
          "opacity": 0.9,
          "size": 9
         },
         "mode": "markers",
         "name": "Orlando Magic",
         "showlegend": true,
         "text": "Orlando Magic",
         "type": "scatter",
         "x": [
          2002,
          2003,
          2004,
          2005,
          2006,
          2007,
          2008,
          2009,
          2010,
          2011,
          2012,
          2013,
          2014,
          2015,
          2016,
          2017,
          2018,
          2019,
          2020,
          2021
         ],
         "y": [
          1.9679778113968733,
          1.9661701590507448,
          1.9183055975794252,
          2.002283684344075,
          1.857573474001507,
          1.8870070778564205,
          1.9608190091001012,
          1.9384186517992905,
          1.9295489102889,
          1.9099848714069592,
          1.8722204823050423,
          1.9327603640040445,
          1.9636682535705337,
          1.9673500379650721,
          2.014066817382567,
          2.0169149204746275,
          2.0516979219462748,
          2.0558645096056622,
          2.06459874786568,
          2.0652048470859783
         ]
        },
        {
         "hoverinfo": "name+y",
         "marker": {
          "color": " #006BB6",
          "line": {
           "color": " #ED174C",
           "width": 2
          },
          "opacity": 0.9,
          "size": 9
         },
         "mode": "markers",
         "name": "Philadelphia 76ers",
         "showlegend": true,
         "text": "Philadelphia 76ers",
         "type": "scatter",
         "x": [
          2002,
          2003,
          2004,
          2005,
          2006,
          2007,
          2008,
          2009,
          2010,
          2011,
          2012,
          2013,
          2014,
          2015,
          2016,
          2017,
          2018,
          2019,
          2020,
          2021
         ],
         "y": [
          1.8813988849467815,
          1.9375472173256107,
          1.8582221102996725,
          2.010828506673382,
          1.9542828435066566,
          1.9129778672032194,
          1.9073652239939256,
          1.9012908124525436,
          1.9308255491037616,
          1.9340190667335675,
          1.8900408419729815,
          1.914958238420653,
          2.0740367665575423,
          2.0070689219893967,
          2.0497349154253977,
          2.062279374684821,
          2.097826086956522,
          2.137591517293613,
          2.075589656152316,
          2.0860585197934594
         ]
        },
        {
         "hoverinfo": "name+y",
         "marker": {
          "color": " #1D1160",
          "line": {
           "color": " #e56020",
           "width": 2
          },
          "opacity": 0.9,
          "size": 9
         },
         "mode": "markers",
         "name": "Phoenix Suns",
         "showlegend": true,
         "text": "Phoenix Suns",
         "type": "scatter",
         "x": [
          2002,
          2003,
          2004,
          2005,
          2006,
          2007,
          2008,
          2009,
          2010,
          2011,
          2012,
          2013,
          2014,
          2015,
          2016,
          2017,
          2018,
          2019,
          2020,
          2021
         ],
         "y": [
          1.932173474533535,
          1.9280484726079272,
          1.951089711099848,
          2.0308392315470174,
          2.0212979203207215,
          2.0100477267018335,
          2.0369059656218402,
          2.020754239433055,
          2.0114039533705017,
          1.9820044988752812,
          1.94854797979798,
          1.9674324665488514,
          2.0179701341432548,
          2.0266599597585513,
          2.068510530322253,
          2.097831568330812,
          2.1042882517127635,
          2.1053822937625752,
          2.1167945439045184,
          2.041475972540046
         ]
        },
        {
         "hoverinfo": "name+y",
         "marker": {
          "color": " #E03A3E",
          "line": {
           "color": " #000000",
           "width": 2
          },
          "opacity": 0.9,
          "size": 9
         },
         "mode": "markers",
         "name": "Portland Trail Blazers",
         "showlegend": true,
         "text": "Portland Trail Blazers",
         "type": "scatter",
         "x": [
          2002,
          2003,
          2004,
          2005,
          2006,
          2007,
          2008,
          2009,
          2010,
          2011,
          2012,
          2013,
          2014,
          2015,
          2016,
          2017,
          2018,
          2019,
          2020,
          2021
         ],
         "y": [
          1.886535552193646,
          1.8856423173803527,
          1.8240740740740742,
          1.8958438925494172,
          1.8520020273694882,
          1.8619393635680281,
          1.8540567696558654,
          1.8338376197680282,
          1.8481490808360614,
          1.8578641757132037,
          1.9238960225493267,
          1.9262150591790481,
          1.9969780911609167,
          1.9813648954923193,
          2.0227215349659176,
          2.029101856497742,
          2.0227790432801824,
          2.0823470158650212,
          2.1079338379590693,
          2.0621207743426755
         ]
        },
        {
         "hoverinfo": "name+y",
         "marker": {
          "color": " #5A2D81",
          "line": {
           "color": " #63727a",
           "width": 2
          },
          "opacity": 0.9,
          "size": 9
         },
         "mode": "markers",
         "name": "Sacramento Kings",
         "showlegend": true,
         "text": "Sacramento Kings",
         "type": "scatter",
         "x": [
          2002,
          2003,
          2004,
          2005,
          2006,
          2007,
          2008,
          2009,
          2010,
          2011,
          2012,
          2013,
          2014,
          2015,
          2016,
          2017,
          2018,
          2019,
          2020,
          2021
         ],
         "y": [
          2.012401923563655,
          2.01386787695411,
          1.9628412537917088,
          1.9690254343993956,
          1.9417549167927384,
          1.9939409240090886,
          1.9969742813918305,
          1.9846772167797035,
          1.9756036217303823,
          1.9952153110047848,
          1.9896324222431667,
          1.9677256681795259,
          1.9768028240040343,
          2.0025182573659026,
          2.0959353698560967,
          1.9896881287726358,
          1.9893697798025816,
          2.1654840344652815,
          2.0736178745345173,
          2.099393238948281
         ]
        },
        {
         "hoverinfo": "name+y",
         "marker": {
          "color": " #000",
          "line": {
           "color": " #C4CED4",
           "width": 2
          },
          "opacity": 0.9,
          "size": 9
         },
         "mode": "markers",
         "name": "San Antonio Spurs",
         "showlegend": true,
         "text": "San Antonio Spurs",
         "type": "scatter",
         "x": [
          2002,
          2003,
          2004,
          2005,
          2006,
          2007,
          2008,
          2009,
          2010,
          2011,
          2012,
          2013,
          2014,
          2015,
          2016,
          2017,
          2018,
          2019,
          2020,
          2021
         ],
         "y": [
          1.8957441450516244,
          1.9056984367120524,
          1.880030372057707,
          1.8770512496844232,
          1.8636707902044938,
          1.8806875631951465,
          1.8694880892042576,
          1.857573474001507,
          1.922396359959555,
          1.9441354903943378,
          1.9510664993726474,
          1.9849094567404426,
          1.9962034927866363,
          1.9694312202455524,
          1.970819588936818,
          1.9772784650340822,
          1.9936644703497213,
          2.060590759909114,
          2.1054313099041533,
          2.0697940503432495
         ]
        },
        {
         "hoverinfo": "name+y",
         "marker": {
          "color": " #00653a",
          "line": {
           "color": " #ffc200",
           "width": 2
          },
          "opacity": 0.9,
          "size": 9
         },
         "mode": "markers",
         "name": "Seattle SuperSonics",
         "showlegend": true,
         "text": "Seattle SuperSonics",
         "type": "scatter",
         "x": [
          2002,
          2003,
          2004,
          2005,
          2006,
          2007,
          2008
         ],
         "y": [
          1.8830055471507816,
          1.8582221102996725,
          1.904064630143903,
          1.8610478359908884,
          1.938729198184569,
          1.934947049924357,
          2.0247100353000502
         ]
        },
        {
         "hoverinfo": "name+y",
         "marker": {
          "color": " #CE1141",
          "line": {
           "color": " #000",
           "width": 2
          },
          "opacity": 0.9,
          "size": 9
         },
         "mode": "markers",
         "name": "Toronto Raptors",
         "showlegend": true,
         "text": "Toronto Raptors",
         "type": "scatter",
         "x": [
          2002,
          2003,
          2004,
          2005,
          2006,
          2007,
          2008,
          2009,
          2010,
          2011,
          2012,
          2013,
          2014,
          2015,
          2016,
          2017,
          2018,
          2019,
          2020,
          2021
         ],
         "y": [
          1.876486965325234,
          1.8952284776571573,
          1.8388388388388388,
          1.9596061600605907,
          1.9238286143823604,
          1.9536826119969628,
          1.9019162884518406,
          1.9431961625852057,
          1.9580384226491405,
          1.9522244691607684,
          1.8816160350767304,
          1.8996496496496496,
          1.9283387622149837,
          1.9481238982624025,
          1.9481799797775532,
          1.9886248736097067,
          2.043368633383762,
          2.096076458752515,
          2.1081703107019565,
          2.073678127708755
         ]
        },
        {
         "hoverinfo": "name+y",
         "marker": {
          "color": " #002B5C",
          "line": {
           "color": " #F9A01B",
           "width": 2
          },
          "opacity": 0.9,
          "size": 9
         },
         "mode": "markers",
         "name": "Utah Jazz",
         "showlegend": true,
         "text": "Utah Jazz",
         "type": "scatter",
         "x": [
          2002,
          2003,
          2004,
          2005,
          2006,
          2007,
          2008,
          2009,
          2010,
          2011,
          2012,
          2013,
          2014,
          2015,
          2016,
          2017,
          2018,
          2019,
          2020,
          2021
         ],
         "y": [
          1.9117498739283914,
          1.8915571284125379,
          1.8379676440849342,
          1.8728513650151668,
          1.8606639839034205,
          1.9341075485988386,
          1.9723420451662015,
          1.9685613682092555,
          1.9719058466211086,
          1.9162474849094568,
          1.928858645221157,
          1.9187625754527162,
          1.922396359959555,
          1.8995178888606952,
          1.9105487346529693,
          1.9182485446722348,
          2.012401923563655,
          2.102758795241711,
          2.0653990204552004,
          2.072313454335926
         ]
        },
        {
         "hoverinfo": "name+y",
         "marker": {
          "color": " #002B5C",
          "line": {
           "color": " #e31837",
           "width": 2
          },
          "opacity": 0.9,
          "size": 9
         },
         "mode": "markers",
         "name": "Washington Wizards",
         "showlegend": true,
         "text": "Washington Wizards",
         "type": "scatter",
         "x": [
          2002,
          2003,
          2004,
          2005,
          2006,
          2007,
          2008,
          2009,
          2010,
          2011,
          2012,
          2013,
          2014,
          2015,
          2016,
          2017,
          2018,
          2019,
          2020,
          2021
         ],
         "y": [
          1.874049670552458,
          1.8633383761976803,
          1.954362077660111,
          1.9757330637007078,
          1.9520927887039838,
          1.984367120524458,
          1.8922381311228336,
          1.9223547323014463,
          1.9304084720121029,
          1.9746613146011038,
          1.948313898518752,
          1.938806346008562,
          1.962602842183994,
          1.9654221999498873,
          2.0660592255125283,
          2.042054898010577,
          2.0365147318055907,
          2.128951329653788,
          2.153558052434457,
          2.1789715598965813
         ]
        }
       ],
       "layout": {
        "autosize": true,
        "template": {
         "data": {
          "bar": [
           {
            "error_x": {
             "color": "#2a3f5f"
            },
            "error_y": {
             "color": "#2a3f5f"
            },
            "marker": {
             "line": {
              "color": "#E5ECF6",
              "width": 0.5
             },
             "pattern": {
              "fillmode": "overlay",
              "size": 10,
              "solidity": 0.2
             }
            },
            "type": "bar"
           }
          ],
          "barpolar": [
           {
            "marker": {
             "line": {
              "color": "#E5ECF6",
              "width": 0.5
             },
             "pattern": {
              "fillmode": "overlay",
              "size": 10,
              "solidity": 0.2
             }
            },
            "type": "barpolar"
           }
          ],
          "carpet": [
           {
            "aaxis": {
             "endlinecolor": "#2a3f5f",
             "gridcolor": "white",
             "linecolor": "white",
             "minorgridcolor": "white",
             "startlinecolor": "#2a3f5f"
            },
            "baxis": {
             "endlinecolor": "#2a3f5f",
             "gridcolor": "white",
             "linecolor": "white",
             "minorgridcolor": "white",
             "startlinecolor": "#2a3f5f"
            },
            "type": "carpet"
           }
          ],
          "choropleth": [
           {
            "colorbar": {
             "outlinewidth": 0,
             "ticks": ""
            },
            "type": "choropleth"
           }
          ],
          "contour": [
           {
            "colorbar": {
             "outlinewidth": 0,
             "ticks": ""
            },
            "colorscale": [
             [
              0,
              "#0d0887"
             ],
             [
              0.1111111111111111,
              "#46039f"
             ],
             [
              0.2222222222222222,
              "#7201a8"
             ],
             [
              0.3333333333333333,
              "#9c179e"
             ],
             [
              0.4444444444444444,
              "#bd3786"
             ],
             [
              0.5555555555555556,
              "#d8576b"
             ],
             [
              0.6666666666666666,
              "#ed7953"
             ],
             [
              0.7777777777777778,
              "#fb9f3a"
             ],
             [
              0.8888888888888888,
              "#fdca26"
             ],
             [
              1,
              "#f0f921"
             ]
            ],
            "type": "contour"
           }
          ],
          "contourcarpet": [
           {
            "colorbar": {
             "outlinewidth": 0,
             "ticks": ""
            },
            "type": "contourcarpet"
           }
          ],
          "heatmap": [
           {
            "colorbar": {
             "outlinewidth": 0,
             "ticks": ""
            },
            "colorscale": [
             [
              0,
              "#0d0887"
             ],
             [
              0.1111111111111111,
              "#46039f"
             ],
             [
              0.2222222222222222,
              "#7201a8"
             ],
             [
              0.3333333333333333,
              "#9c179e"
             ],
             [
              0.4444444444444444,
              "#bd3786"
             ],
             [
              0.5555555555555556,
              "#d8576b"
             ],
             [
              0.6666666666666666,
              "#ed7953"
             ],
             [
              0.7777777777777778,
              "#fb9f3a"
             ],
             [
              0.8888888888888888,
              "#fdca26"
             ],
             [
              1,
              "#f0f921"
             ]
            ],
            "type": "heatmap"
           }
          ],
          "heatmapgl": [
           {
            "colorbar": {
             "outlinewidth": 0,
             "ticks": ""
            },
            "colorscale": [
             [
              0,
              "#0d0887"
             ],
             [
              0.1111111111111111,
              "#46039f"
             ],
             [
              0.2222222222222222,
              "#7201a8"
             ],
             [
              0.3333333333333333,
              "#9c179e"
             ],
             [
              0.4444444444444444,
              "#bd3786"
             ],
             [
              0.5555555555555556,
              "#d8576b"
             ],
             [
              0.6666666666666666,
              "#ed7953"
             ],
             [
              0.7777777777777778,
              "#fb9f3a"
             ],
             [
              0.8888888888888888,
              "#fdca26"
             ],
             [
              1,
              "#f0f921"
             ]
            ],
            "type": "heatmapgl"
           }
          ],
          "histogram": [
           {
            "marker": {
             "pattern": {
              "fillmode": "overlay",
              "size": 10,
              "solidity": 0.2
             }
            },
            "type": "histogram"
           }
          ],
          "histogram2d": [
           {
            "colorbar": {
             "outlinewidth": 0,
             "ticks": ""
            },
            "colorscale": [
             [
              0,
              "#0d0887"
             ],
             [
              0.1111111111111111,
              "#46039f"
             ],
             [
              0.2222222222222222,
              "#7201a8"
             ],
             [
              0.3333333333333333,
              "#9c179e"
             ],
             [
              0.4444444444444444,
              "#bd3786"
             ],
             [
              0.5555555555555556,
              "#d8576b"
             ],
             [
              0.6666666666666666,
              "#ed7953"
             ],
             [
              0.7777777777777778,
              "#fb9f3a"
             ],
             [
              0.8888888888888888,
              "#fdca26"
             ],
             [
              1,
              "#f0f921"
             ]
            ],
            "type": "histogram2d"
           }
          ],
          "histogram2dcontour": [
           {
            "colorbar": {
             "outlinewidth": 0,
             "ticks": ""
            },
            "colorscale": [
             [
              0,
              "#0d0887"
             ],
             [
              0.1111111111111111,
              "#46039f"
             ],
             [
              0.2222222222222222,
              "#7201a8"
             ],
             [
              0.3333333333333333,
              "#9c179e"
             ],
             [
              0.4444444444444444,
              "#bd3786"
             ],
             [
              0.5555555555555556,
              "#d8576b"
             ],
             [
              0.6666666666666666,
              "#ed7953"
             ],
             [
              0.7777777777777778,
              "#fb9f3a"
             ],
             [
              0.8888888888888888,
              "#fdca26"
             ],
             [
              1,
              "#f0f921"
             ]
            ],
            "type": "histogram2dcontour"
           }
          ],
          "mesh3d": [
           {
            "colorbar": {
             "outlinewidth": 0,
             "ticks": ""
            },
            "type": "mesh3d"
           }
          ],
          "parcoords": [
           {
            "line": {
             "colorbar": {
              "outlinewidth": 0,
              "ticks": ""
             }
            },
            "type": "parcoords"
           }
          ],
          "pie": [
           {
            "automargin": true,
            "type": "pie"
           }
          ],
          "scatter": [
           {
            "marker": {
             "colorbar": {
              "outlinewidth": 0,
              "ticks": ""
             }
            },
            "type": "scatter"
           }
          ],
          "scatter3d": [
           {
            "line": {
             "colorbar": {
              "outlinewidth": 0,
              "ticks": ""
             }
            },
            "marker": {
             "colorbar": {
              "outlinewidth": 0,
              "ticks": ""
             }
            },
            "type": "scatter3d"
           }
          ],
          "scattercarpet": [
           {
            "marker": {
             "colorbar": {
              "outlinewidth": 0,
              "ticks": ""
             }
            },
            "type": "scattercarpet"
           }
          ],
          "scattergeo": [
           {
            "marker": {
             "colorbar": {
              "outlinewidth": 0,
              "ticks": ""
             }
            },
            "type": "scattergeo"
           }
          ],
          "scattergl": [
           {
            "marker": {
             "colorbar": {
              "outlinewidth": 0,
              "ticks": ""
             }
            },
            "type": "scattergl"
           }
          ],
          "scattermapbox": [
           {
            "marker": {
             "colorbar": {
              "outlinewidth": 0,
              "ticks": ""
             }
            },
            "type": "scattermapbox"
           }
          ],
          "scatterpolar": [
           {
            "marker": {
             "colorbar": {
              "outlinewidth": 0,
              "ticks": ""
             }
            },
            "type": "scatterpolar"
           }
          ],
          "scatterpolargl": [
           {
            "marker": {
             "colorbar": {
              "outlinewidth": 0,
              "ticks": ""
             }
            },
            "type": "scatterpolargl"
           }
          ],
          "scatterternary": [
           {
            "marker": {
             "colorbar": {
              "outlinewidth": 0,
              "ticks": ""
             }
            },
            "type": "scatterternary"
           }
          ],
          "surface": [
           {
            "colorbar": {
             "outlinewidth": 0,
             "ticks": ""
            },
            "colorscale": [
             [
              0,
              "#0d0887"
             ],
             [
              0.1111111111111111,
              "#46039f"
             ],
             [
              0.2222222222222222,
              "#7201a8"
             ],
             [
              0.3333333333333333,
              "#9c179e"
             ],
             [
              0.4444444444444444,
              "#bd3786"
             ],
             [
              0.5555555555555556,
              "#d8576b"
             ],
             [
              0.6666666666666666,
              "#ed7953"
             ],
             [
              0.7777777777777778,
              "#fb9f3a"
             ],
             [
              0.8888888888888888,
              "#fdca26"
             ],
             [
              1,
              "#f0f921"
             ]
            ],
            "type": "surface"
           }
          ],
          "table": [
           {
            "cells": {
             "fill": {
              "color": "#EBF0F8"
             },
             "line": {
              "color": "white"
             }
            },
            "header": {
             "fill": {
              "color": "#C8D4E3"
             },
             "line": {
              "color": "white"
             }
            },
            "type": "table"
           }
          ]
         },
         "layout": {
          "annotationdefaults": {
           "arrowcolor": "#2a3f5f",
           "arrowhead": 0,
           "arrowwidth": 1
          },
          "autotypenumbers": "strict",
          "coloraxis": {
           "colorbar": {
            "outlinewidth": 0,
            "ticks": ""
           }
          },
          "colorscale": {
           "diverging": [
            [
             0,
             "#8e0152"
            ],
            [
             0.1,
             "#c51b7d"
            ],
            [
             0.2,
             "#de77ae"
            ],
            [
             0.3,
             "#f1b6da"
            ],
            [
             0.4,
             "#fde0ef"
            ],
            [
             0.5,
             "#f7f7f7"
            ],
            [
             0.6,
             "#e6f5d0"
            ],
            [
             0.7,
             "#b8e186"
            ],
            [
             0.8,
             "#7fbc41"
            ],
            [
             0.9,
             "#4d9221"
            ],
            [
             1,
             "#276419"
            ]
           ],
           "sequential": [
            [
             0,
             "#0d0887"
            ],
            [
             0.1111111111111111,
             "#46039f"
            ],
            [
             0.2222222222222222,
             "#7201a8"
            ],
            [
             0.3333333333333333,
             "#9c179e"
            ],
            [
             0.4444444444444444,
             "#bd3786"
            ],
            [
             0.5555555555555556,
             "#d8576b"
            ],
            [
             0.6666666666666666,
             "#ed7953"
            ],
            [
             0.7777777777777778,
             "#fb9f3a"
            ],
            [
             0.8888888888888888,
             "#fdca26"
            ],
            [
             1,
             "#f0f921"
            ]
           ],
           "sequentialminus": [
            [
             0,
             "#0d0887"
            ],
            [
             0.1111111111111111,
             "#46039f"
            ],
            [
             0.2222222222222222,
             "#7201a8"
            ],
            [
             0.3333333333333333,
             "#9c179e"
            ],
            [
             0.4444444444444444,
             "#bd3786"
            ],
            [
             0.5555555555555556,
             "#d8576b"
            ],
            [
             0.6666666666666666,
             "#ed7953"
            ],
            [
             0.7777777777777778,
             "#fb9f3a"
            ],
            [
             0.8888888888888888,
             "#fdca26"
            ],
            [
             1,
             "#f0f921"
            ]
           ]
          },
          "colorway": [
           "#636efa",
           "#EF553B",
           "#00cc96",
           "#ab63fa",
           "#FFA15A",
           "#19d3f3",
           "#FF6692",
           "#B6E880",
           "#FF97FF",
           "#FECB52"
          ],
          "font": {
           "color": "#2a3f5f"
          },
          "geo": {
           "bgcolor": "white",
           "lakecolor": "white",
           "landcolor": "#E5ECF6",
           "showlakes": true,
           "showland": true,
           "subunitcolor": "white"
          },
          "hoverlabel": {
           "align": "left"
          },
          "hovermode": "closest",
          "mapbox": {
           "style": "light"
          },
          "paper_bgcolor": "white",
          "plot_bgcolor": "#E5ECF6",
          "polar": {
           "angularaxis": {
            "gridcolor": "white",
            "linecolor": "white",
            "ticks": ""
           },
           "bgcolor": "#E5ECF6",
           "radialaxis": {
            "gridcolor": "white",
            "linecolor": "white",
            "ticks": ""
           }
          },
          "scene": {
           "xaxis": {
            "backgroundcolor": "#E5ECF6",
            "gridcolor": "white",
            "gridwidth": 2,
            "linecolor": "white",
            "showbackground": true,
            "ticks": "",
            "zerolinecolor": "white"
           },
           "yaxis": {
            "backgroundcolor": "#E5ECF6",
            "gridcolor": "white",
            "gridwidth": 2,
            "linecolor": "white",
            "showbackground": true,
            "ticks": "",
            "zerolinecolor": "white"
           },
           "zaxis": {
            "backgroundcolor": "#E5ECF6",
            "gridcolor": "white",
            "gridwidth": 2,
            "linecolor": "white",
            "showbackground": true,
            "ticks": "",
            "zerolinecolor": "white"
           }
          },
          "shapedefaults": {
           "line": {
            "color": "#2a3f5f"
           }
          },
          "ternary": {
           "aaxis": {
            "gridcolor": "white",
            "linecolor": "white",
            "ticks": ""
           },
           "baxis": {
            "gridcolor": "white",
            "linecolor": "white",
            "ticks": ""
           },
           "bgcolor": "#E5ECF6",
           "caxis": {
            "gridcolor": "white",
            "linecolor": "white",
            "ticks": ""
           }
          },
          "title": {
           "x": 0.05
          },
          "xaxis": {
           "automargin": true,
           "gridcolor": "white",
           "linecolor": "white",
           "ticks": "",
           "title": {
            "standoff": 15
           },
           "zerolinecolor": "white",
           "zerolinewidth": 2
          },
          "yaxis": {
           "automargin": true,
           "gridcolor": "white",
           "linecolor": "white",
           "ticks": "",
           "title": {
            "standoff": 15
           },
           "zerolinecolor": "white",
           "zerolinewidth": 2
          }
         }
        },
        "title": {
         "text": "Possessions per Minute"
        },
        "xaxis": {
         "autorange": true,
         "range": [
          2000.743156199678,
          2022.256843800322
         ],
         "type": "linear"
        },
        "yaxis": {
         "autorange": true,
         "range": [
          1.7937619662238162,
          2.226646080206008
         ],
         "type": "linear"
        }
       }
      },
      "image/png": "[encoded data removed]",
      "text/html": [
       "<div>                            <div id=\"fa2ca91c-9b16-4a91-aefc-79a9b6fbcb45\" class=\"plotly-graph-div\" style=\"height:600px; width:100%;\"></div>            <script type=\"text/javascript\">                require([\"plotly\"], function(Plotly) {                    window.PLOTLYENV=window.PLOTLYENV || {};                                    if (document.getElementById(\"fa2ca91c-9b16-4a91-aefc-79a9b6fbcb45\")) {                    Plotly.newPlot(                        \"fa2ca91c-9b16-4a91-aefc-79a9b6fbcb45\",                        [{\"boxpoints\":false,\"line\":{\"color\":\"grey\"},\"marker\":{\"color\":\"lightgrey\"},\"showlegend\":false,\"type\":\"box\",\"x\":[2002,2003,2004,2005,2006,2007,2008,2009,2010,2011,2012,2013,2014,2015,2016,2017,2018,2019,2020,2021,2002,2003,2004,2005,2006,2007,2008,2009,2010,2011,2012,2013,2014,2015,2016,2017,2018,2019,2020,2021,2002,2005,2006,2007,2008,2009,2010,2011,2012,2013,2014,2015,2016,2017,2018,2019,2020,2021,2002,2003,2004,2005,2006,2007,2008,2009,2010,2011,2012,2013,2014,2015,2016,2017,2018,2019,2020,2021,2002,2003,2004,2005,2006,2007,2008,2009,2010,2011,2012,2013,2014,2015,2016,2017,2018,2019,2020,2021,2002,2003,2004,2005,2006,2007,2008,2009,2010,2011,2012,2013,2014,2015,2016,2017,2018,2019,2020,2021,2002,2003,2004,2005,2006,2007,2008,2009,2010,2011,2012,2013,2014,2015,2016,2017,2018,2019,2020,2021,2002,2003,2004,2005,2006,2007,2008,2009,2010,2011,2012,2013,2014,2015,2016,2017,2018,2019,2020,2021,2002,2003,2004,2005,2006,2007,2008,2009,2010,2011,2012,2013,2014,2015,2016,2017,2018,2019,2020,2021,2002,2003,2004,2005,2006,2007,2008,2009,2010,2011,2012,2013,2014,2015,2016,2017,2018,2019,2020,2021,2002,2003,2004,2005,2006,2007,2008,2009,2010,2011,2012,2013,2014,2015,2016,2017,2018,2019,2020,2021,2002,2003,2004,2005,2006,2007,2008,2009,2010,2011,2012,2013,2014,2015,2016,2017,2018,2019,2020,2021,2002,2003,2004,2005,2006,2007,2008,2009,2010,2011,2012,2013,2014,2015,2016,2017,2018,2019,2020,2021,2002,2003,2004,2005,2006,2007,2008,2009,2010,2011,2012,2013,2014,2015,2016,2017,2018,2019,2020,2021,2002,2003,2004,2005,2006,2007,2008,2009,2010,2011,2012,2013,2014,2015,2016,2017,2018,2019,2020,2021,2002,2003,2004,2005,2006,2007,2008,2009,2010,2011,2012,2013,2014,2015,2016,2017,2018,2019,2020,2021,2002,2003,2004,2005,2006,2007,2008,2009,2010,2011,2012,2013,2014,2015,2016,2017,2018,2019,2020,2021,2002,2003,2004,2005,2006,2007,2008,2009,2010,2011,2012,2013,2014,2015,2016,2017,2018,2019,2020,2021,2002,2003,2004,2005,2006,2007,2008,2009,2010,2011,2012,2013,2014,2015,2016,2017,2018,2019,2020,2021,2002,2003,2004,2005,2006,2007,2008,2009,2010,2011,2012,2013,2014,2015,2016,2017,2018,2019,2020,2021,2002,2003,2004,2005,2006,2007,2008,2009,2010,2011,2012,2013,2014,2015,2016,2017,2018,2019,2020,2021,2002,2003,2004,2005,2006,2007,2008,2009,2010,2011,2012,2013,2014,2015,2016,2017,2018,2019,2020,2021,2002,2003,2004,2005,2006,2007,2008,2009,2010,2011,2012,2013,2014,2015,2016,2017,2018,2019,2020,2021,2002,2003,2004,2005,2006,2007,2008,2009,2010,2011,2012,2013,2014,2015,2016,2017,2018,2019,2020,2021,2002,2003,2004,2005,2006,2007,2008,2009,2010,2011,2012,2013,2014,2015,2016,2017,2018,2019,2020,2021,2002,2003,2004,2005,2006,2007,2008,2002,2003,2004,2005,2006,2007,2008,2009,2010,2011,2012,2013,2014,2015,2016,2017,2018,2019,2020,2021,2002,2003,2004,2005,2006,2007,2008,2009,2010,2011,2012,2013,2014,2015,2016,2017,2018,2019,2020,2021,2002,2003,2004,2005,2006,2007,2008,2009,2010,2011,2012,2013,2014,2015,2016,2017,2018,2019,2020,2021,2003,2004,2005,2006,2007,2008,2009,2010,2011,2012,2013,2014,2015,2016,2017,2018,2019,2020,2021,2009,2010,2011,2012,2013,2014,2015,2016,2017,2018,2019,2020,2021],\"y\":[1.9408493427704752,1.9299171062547098,1.9291635267520724,1.937799043062201,1.9132293762575452,1.8946177062374245,1.922437673130194,1.8848008119766557,1.8924704104759507,1.8778509883426255,1.8920507268790596,1.9501385041551247,1.9899142713061018,1.9703497212366954,2.0320221886031264,2.0349597585513077,2.0588683075361582,2.1762780156131956,2.1495700245700244,2.056880206837116,1.951084215834594,1.9167927382753405,1.9682821618878457,1.971579476861167,1.9421529175050303,1.9340216570133468,1.9172361427486713,1.9014084507042253,1.9234074823053589,1.8958543983822043,1.8993099121706398,1.9284274193548387,1.962747085656361,2.0138329979879277,2.070525783619818,2.026069349531764,2.016409997475385,2.0935288169868556,2.0811818703384968,2.0632911392405062,1.8931915970640345,1.9474346076458753,1.9721175584024115,1.939015246188453,1.9310865191146882,1.8567486201705972,1.8910965794768613,1.8793234031810149,1.9131529263687854,1.9267861651098208,1.9372017081135393,1.9475006279829188,2.0060438176781665,2.000504286434695,2.0583923154701718,2.0680786686838126,2.0053968253968253,2.062518006338231,1.9058318606412523,1.9716436637390213,1.9399899142713062,1.9432677760968229,1.9497613664908315,1.9691607684529828,1.9575864680636204,1.960863020572002,1.9577995478522985,1.9016641452344931,1.8764115432873274,1.880988401412002,1.893878575012544,1.955482897384306,2.011554885707109,2.001769464105157,2.054898010576681,2.0678221552373777,2.0934609250398726,2.0771001150747987,1.9020397884663813,1.984367120524458,1.908083606144548,1.8927222362125409,1.8935955622793748,1.9109657947686116,1.8987660538907076,1.8693124368048535,1.9143073811931244,1.9526702100733992,1.9229564672721577,1.94272681196148,1.9528349222277972,1.941860465116279,1.9551750188869303,2.016851106639839,2.0562595032944753,2.0301189572260188,2.065818759936407,2.0387263339070567,1.9675553319919517,1.9529828109201213,1.9727341580408988,1.9637607704004054,1.8604124748490947,1.8921791951404707,1.9052204764318297,1.9315829336026256,1.9509557344064385,1.9236234458259325,1.9281045751633987,1.9812312312312312,1.9798285426122038,2.006036217303823,1.987003249187703,1.9383215369059656,2.009341075485988,2.076845298281092,2.0822558459422282,2.040450736781277,1.9028023226457964,1.9178915357323871,1.9731373542828181,1.9721589471019996,1.9761665830406423,2.0457532861476238,2.0977083857970285,1.9888494678155093,1.9908998988877655,2.001522456229383,1.9781795511221945,1.9994976136649083,2.061756517337383,2.0148390342052314,2.007816439737771,2.0670716274360923,2.035965794768612,2.0516979219462748,2.0335305719921104,2.0374713958810067,1.9042174796747968,1.8382316001004773,1.8617290192113245,1.8451515910799299,1.832576903681291,1.8440643863179074,1.8446528129751647,1.8342125094197437,1.865267947421638,1.8682092555331993,1.8791105543376134,1.911386013632921,1.9903943377148634,1.9518406454866364,1.9974849094567404,1.9919212320121182,2.0148952284776573,2.0400402921178546,2.0378953961791417,2.0458978772231786,1.9944388270980788,1.9987344975955454,1.8975069252077563,1.9668425018839488,1.966717095310136,2.082510756770438,2.0851870576339735,2.074195171026157,2.113025848960973,1.9959657085224407,1.9516179704681118,1.992678616510982,2.028492183560262,2.0704510897110997,2.0882796780684103,2.0927704752275025,2.090978205778003,2.118151981822772,2.1058823529411765,2.14157757873447,1.8658658658658658,1.8835925740090316,1.8524836929252384,1.8803827751196172,1.8552697932425617,1.9133719466129437,1.9069944247339077,1.90154001514769,1.9736247174076864,1.9818913480885312,1.9343292872704638,2.019211324570273,2.027231467473525,2.0290330724564503,2.052193645990923,2.095298281092012,2.044545684636801,2.049924357034796,2.168872266973533,2.114995665992488,1.9394624466214518,1.9331826174328057,1.845746023731381,1.8465209746294902,1.8930562595032945,1.9456521739130435,2.0528980005062007,2.0264750378214824,2.0360314640954074,1.987866531850354,1.91213258286429,1.8938233792751404,1.935288169868554,1.952404935784437,2.0291750503018107,2.0118358096197433,2.0189825360668183,2.054554681552905,2.071225879682179,2.125179031796047,1.8995203231507196,1.926853961022526,1.9247664731128502,1.888167748377434,1.937642009593537,1.9143436391282311,1.943448624084827,1.942404426559356,1.9462065465617864,1.9435910350037773,1.875665518321328,1.9138367967562089,2.0131612250063275,1.9878357830714648,2.0158850226928897,2.0167046317388,2.0723166708957117,2.136913767019667,2.1277330264672036,2.0358796296296298,1.9441354903943378,1.9560963371801305,1.9463611181062705,1.9236602628918098,1.9219340216570133,1.9715426859710434,2.0156723963599594,1.9903943377148634,1.953857791225416,1.9147755925365608,1.912542794895736,1.9817767653758542,2.074854097944684,1.9799297541394882,2.009630005068424,2.066226845978178,2.1002260738507914,2.1572295247724975,2.109713282621416,2.0578630764823833,1.928463094034378,1.960110386352233,1.9290744466800804,1.8662775945191576,1.8212037270209016,1.9727227227227226,2.00580661449129,1.9005301691492047,1.963325797538307,1.9255533199195172,1.913111668757842,1.8667003281999495,1.8874021711688966,1.9331826174328057,1.9573877962682804,1.9346897764380808,1.995686374016747,2.021629778672032,2.151963574274331,2.0976730824475727,1.8429503261414952,1.8540090771558244,1.8630726398380157,1.9136636636636637,1.9291318653505443,1.8894485016368674,1.9006555723651033,1.8910047607116012,1.8825452716297786,1.9120323559150658,1.9183291770573565,1.904426559356137,1.915241448692153,1.907247845919919,1.9614220877458397,1.9906471183013144,2.003261414952333,2.0582868727825647,2.0586080586080584,2.0241657077100115,1.9068073348404924,1.9108264255212257,1.941860465116279,1.9170879676440848,1.9254595819692772,1.9413246033744649,1.9274741878619994,1.955510616784631,1.9264264264264264,1.8852748361069087,1.9716356760163882,1.9942007060010085,1.9328470824949697,1.9736578023080782,1.9813414019162885,1.9787664307381194,2.020423600605144,2.1569767441860463,2.199204319408923,2.1416618580496247,1.91315324413027,1.939156778591265,1.8833206783092888,1.8830675778283978,1.865776882397381,1.9217695576105973,1.9341104916371008,1.9300681646048978,2.0227502527805865,2.0308392315470174,1.9661229611041404,1.954384186517993,2.049609670108285,1.987629386518556,2.0032696177062372,1.986872002019692,2.015905074476142,2.1031265758951085,2.16452442159383,2.122665900603275,1.9432677760968229,1.9390027841052897,1.8967267191068258,1.8841999497613664,1.8991405460060666,1.9320925553319919,1.9362077660110943,1.8986384266263236,1.9282103134479271,1.8902774306423393,1.8993077407174324,1.8718207000755478,1.9273138832997987,1.9510787757150025,2.000253100480891,2.1187041255378385,2.0745404180307228,2.115115115115115,2.1178489702517163,2.091353059465671,1.8901792476647312,1.9166456811886174,1.9021629778672031,1.9200201207243461,1.9149523331660814,1.9147713071732066,1.9305835010060362,2.0363544559454683,1.9798792756539236,2.0083417593528816,1.9579673776662485,1.8910288900152052,1.9027952656761522,1.9184084613447494,1.959858621560212,2.0120876353563335,2.0320221886031264,2.083923154701719,2.0651424992170373,2.006310958118187,1.9679778113968733,1.9661701590507448,1.9183055975794252,2.002283684344075,1.857573474001507,1.8870070778564205,1.9608190091001012,1.9384186517992905,1.9295489102889,1.9099848714069592,1.8722204823050423,1.9327603640040445,1.9636682535705337,1.9673500379650721,2.014066817382567,2.0169149204746275,2.0516979219462748,2.0558645096056622,2.06459874786568,2.0652048470859783,1.8813988849467815,1.9375472173256107,1.8582221102996725,2.010828506673382,1.9542828435066566,1.9129778672032194,1.9073652239939256,1.9012908124525436,1.9308255491037616,1.9340190667335675,1.8900408419729815,1.914958238420653,2.0740367665575423,2.0070689219893967,2.0497349154253977,2.062279374684821,2.097826086956522,2.137591517293613,2.075589656152316,2.0860585197934594,1.932173474533535,1.9280484726079272,1.951089711099848,2.0308392315470174,2.0212979203207215,2.0100477267018335,2.0369059656218402,2.020754239433055,2.0114039533705017,1.9820044988752812,1.94854797979798,1.9674324665488514,2.0179701341432548,2.0266599597585513,2.068510530322253,2.097831568330812,2.1042882517127635,2.1053822937625752,2.1167945439045184,2.041475972540046,1.886535552193646,1.8856423173803527,1.8240740740740742,1.8958438925494172,1.8520020273694882,1.8619393635680281,1.8540567696558654,1.8338376197680282,1.8481490808360614,1.8578641757132037,1.9238960225493267,1.9262150591790481,1.9969780911609167,1.9813648954923193,2.0227215349659176,2.029101856497742,2.0227790432801824,2.0823470158650212,2.1079338379590693,2.0621207743426755,2.012401923563655,2.01386787695411,1.9628412537917088,1.9690254343993956,1.9417549167927384,1.9939409240090886,1.9969742813918305,1.9846772167797035,1.9756036217303823,1.9952153110047848,1.9896324222431667,1.9677256681795259,1.9768028240040343,2.0025182573659026,2.0959353698560967,1.9896881287726358,1.9893697798025816,2.1654840344652815,2.0736178745345173,2.099393238948281,1.8957441450516244,1.9056984367120524,1.880030372057707,1.8770512496844232,1.8636707902044938,1.8806875631951465,1.8694880892042576,1.857573474001507,1.922396359959555,1.9441354903943378,1.9510664993726474,1.9849094567404426,1.9962034927866363,1.9694312202455524,1.970819588936818,1.9772784650340822,1.9936644703497213,2.060590759909114,2.1054313099041533,2.0697940503432495,1.8830055471507816,1.8582221102996725,1.904064630143903,1.8610478359908884,1.938729198184569,1.934947049924357,2.0247100353000502,1.876486965325234,1.8952284776571573,1.8388388388388388,1.9596061600605907,1.9238286143823604,1.9536826119969628,1.9019162884518406,1.9431961625852057,1.9580384226491405,1.9522244691607684,1.8816160350767304,1.8996496496496496,1.9283387622149837,1.9481238982624025,1.9481799797775532,1.9886248736097067,2.043368633383762,2.096076458752515,2.1081703107019565,2.073678127708755,1.9117498739283914,1.8915571284125379,1.8379676440849342,1.8728513650151668,1.8606639839034205,1.9341075485988386,1.9723420451662015,1.9685613682092555,1.9719058466211086,1.9162474849094568,1.928858645221157,1.9187625754527162,1.922396359959555,1.8995178888606952,1.9105487346529693,1.9182485446722348,2.012401923563655,2.102758795241711,2.0653990204552004,2.072313454335926,1.874049670552458,1.8633383761976803,1.954362077660111,1.9757330637007078,1.9520927887039838,1.984367120524458,1.8922381311228336,1.9223547323014463,1.9304084720121029,1.9746613146011038,1.948313898518752,1.938806346008562,1.962602842183994,1.9654221999498873,2.0660592255125283,2.042054898010577,2.0365147318055907,2.128951329653788,2.153558052434457,2.1789715598965813,1.8894750062798291,1.8850226928895613,1.8519819367787256,1.8788184801817722,1.8991448692152917,1.8977530926533703,1.8483928119463426,1.9467977811396873,1.862581946545638,1.8582183186951067,1.865267947421638,1.9398136489549231,1.923154701718908,2.032608695652174,2.0530017583521727,2.115509897268855,2.164768413059985,2.1652323580034425,2.0949512335054505,1.9795506185306742,1.9626356980560464,1.9555111222194452,1.9615384615384615,1.9687342410489157,2.008078767987882,2.0141200201714575,2.0325264750378214,2.0446856854329716,2.026222894604135,2.1528582221102996,2.0705679862306368,2.118409680207433]},{\"hoverinfo\":\"name+y\",\"marker\":{\"color\":\" #E03A3E\",\"line\":{\"color\":\" #C1D32F\",\"width\":2},\"opacity\":0.9,\"size\":9},\"mode\":\"markers\",\"name\":\"Atlanta Hawks\",\"showlegend\":true,\"text\":\"Atlanta Hawks\",\"type\":\"scatter\",\"x\":[2002,2003,2004,2005,2006,2007,2008,2009,2010,2011,2012,2013,2014,2015,2016,2017,2018,2019,2020,2021],\"y\":[1.9408493427704752,1.9299171062547098,1.9291635267520724,1.937799043062201,1.9132293762575452,1.8946177062374245,1.922437673130194,1.8848008119766557,1.8924704104759507,1.8778509883426255,1.8920507268790596,1.9501385041551247,1.9899142713061018,1.9703497212366954,2.0320221886031264,2.0349597585513077,2.0588683075361582,2.1762780156131956,2.1495700245700244,2.056880206837116]},{\"hoverinfo\":\"name+y\",\"marker\":{\"color\":\" #007a33\",\"line\":{\"color\":\" #BA9653\",\"width\":2},\"opacity\":0.9,\"size\":9},\"mode\":\"markers\",\"name\":\"Boston Celtics\",\"showlegend\":true,\"text\":\"Boston Celtics\",\"type\":\"scatter\",\"x\":[2002,2003,2004,2005,2006,2007,2008,2009,2010,2011,2012,2013,2014,2015,2016,2017,2018,2019,2020,2021],\"y\":[1.951084215834594,1.9167927382753405,1.9682821618878457,1.971579476861167,1.9421529175050303,1.9340216570133468,1.9172361427486713,1.9014084507042253,1.9234074823053589,1.8958543983822043,1.8993099121706398,1.9284274193548387,1.962747085656361,2.0138329979879277,2.070525783619818,2.026069349531764,2.016409997475385,2.0935288169868556,2.0811818703384968,2.0632911392405062]},{\"hoverinfo\":\"name+y\",\"marker\":{\"color\":\" #000\",\"line\":{\"color\":\" #000\",\"width\":2},\"opacity\":0.9,\"size\":9},\"mode\":\"markers\",\"name\":\"Brooklyn Nets\",\"showlegend\":true,\"text\":\"Brooklyn Nets\",\"type\":\"scatter\",\"x\":[2002,2003,2004,2005,2006,2007,2008,2009,2010,2011,2012,2013,2014,2015,2016,2017,2018,2019,2020,2021],\"y\":[1.9432677760968229,1.9390027841052897,1.8967267191068258,1.8841999497613664,1.8991405460060666,1.9320925553319919,1.9362077660110943,1.8986384266263236,1.9282103134479271,1.8902774306423393,1.8993077407174324,1.8718207000755478,1.9273138832997987,1.9510787757150025,2.000253100480891,2.1187041255378385,2.0745404180307228,2.115115115115115,2.1178489702517163,2.091353059465671]},{\"hoverinfo\":\"name+y\",\"marker\":{\"color\":\" #1D1160\",\"line\":{\"color\":\" #00788c\",\"width\":2},\"opacity\":0.9,\"size\":9},\"mode\":\"markers\",\"name\":\"Charlotte Hornets\",\"showlegend\":true,\"text\":\"Charlotte Hornets\",\"type\":\"scatter\",\"x\":[2002,2005,2006,2007,2008,2009,2010,2011,2012,2013,2014,2015,2016,2017,2018,2019,2020,2021],\"y\":[1.8931915970640345,1.9474346076458753,1.9721175584024115,1.939015246188453,1.9310865191146882,1.8567486201705972,1.8910965794768613,1.8793234031810149,1.9131529263687854,1.9267861651098208,1.9372017081135393,1.9475006279829188,2.0060438176781665,2.000504286434695,2.0583923154701718,2.0680786686838126,2.0053968253968253,2.062518006338231]},{\"hoverinfo\":\"name+y\",\"marker\":{\"color\":\" #CE1141\",\"line\":{\"color\":\" #000\",\"width\":2},\"opacity\":0.9,\"size\":9},\"mode\":\"markers\",\"name\":\"Chicago Bulls\",\"showlegend\":true,\"text\":\"Chicago Bulls\",\"type\":\"scatter\",\"x\":[2002,2003,2004,2005,2006,2007,2008,2009,2010,2011,2012,2013,2014,2015,2016,2017,2018,2019,2020,2021],\"y\":[1.9058318606412523,1.9716436637390213,1.9399899142713062,1.9432677760968229,1.9497613664908315,1.9691607684529828,1.9575864680636204,1.960863020572002,1.9577995478522985,1.9016641452344931,1.8764115432873274,1.880988401412002,1.893878575012544,1.955482897384306,2.011554885707109,2.001769464105157,2.054898010576681,2.0678221552373777,2.0934609250398726,2.0771001150747987]},{\"hoverinfo\":\"name+y\",\"marker\":{\"color\":\" #6f263d\",\"line\":{\"color\":\" #ffb81c\",\"width\":2},\"opacity\":0.9,\"size\":9},\"mode\":\"markers\",\"name\":\"Cleveland Cavaliers\",\"showlegend\":true,\"text\":\"Cleveland Cavaliers\",\"type\":\"scatter\",\"x\":[2002,2003,2004,2005,2006,2007,2008,2009,2010,2011,2012,2013,2014,2015,2016,2017,2018,2019,2020,2021],\"y\":[1.9020397884663813,1.984367120524458,1.908083606144548,1.8927222362125409,1.8935955622793748,1.9109657947686116,1.8987660538907076,1.8693124368048535,1.9143073811931244,1.9526702100733992,1.9229564672721577,1.94272681196148,1.9528349222277972,1.941860465116279,1.9551750188869303,2.016851106639839,2.0562595032944753,2.0301189572260188,2.065818759936407,2.0387263339070567]},{\"hoverinfo\":\"name+y\",\"marker\":{\"color\":\" #00538C\",\"line\":{\"color\":\" #B8C4CA\",\"width\":2},\"opacity\":0.9,\"size\":9},\"mode\":\"markers\",\"name\":\"Dallas Mavericks\",\"showlegend\":true,\"text\":\"Dallas Mavericks\",\"type\":\"scatter\",\"x\":[2002,2003,2004,2005,2006,2007,2008,2009,2010,2011,2012,2013,2014,2015,2016,2017,2018,2019,2020,2021],\"y\":[1.9675553319919517,1.9529828109201213,1.9727341580408988,1.9637607704004054,1.8604124748490947,1.8921791951404707,1.9052204764318297,1.9315829336026256,1.9509557344064385,1.9236234458259325,1.9281045751633987,1.9812312312312312,1.9798285426122038,2.006036217303823,1.987003249187703,1.9383215369059656,2.009341075485988,2.076845298281092,2.0822558459422282,2.040450736781277]},{\"hoverinfo\":\"name+y\",\"marker\":{\"color\":\" #00285E\",\"line\":{\"color\":\" #ffffff\",\"width\":2},\"opacity\":0.9,\"size\":9},\"mode\":\"markers\",\"name\":\"Denver Nuggets\",\"showlegend\":true,\"text\":\"Denver Nuggets\",\"type\":\"scatter\",\"x\":[2002,2003,2004,2005,2006,2007,2008,2009,2010,2011,2012,2013,2014,2015,2016,2017,2018,2019,2020,2021],\"y\":[1.9028023226457964,1.9178915357323871,1.9731373542828181,1.9721589471019996,1.9761665830406423,2.0457532861476238,2.0977083857970285,1.9888494678155093,1.9908998988877655,2.001522456229383,1.9781795511221945,1.9994976136649083,2.061756517337383,2.0148390342052314,2.007816439737771,2.0670716274360923,2.035965794768612,2.0516979219462748,2.0335305719921104,2.0374713958810067]},{\"hoverinfo\":\"name+y\",\"marker\":{\"color\":\" #ED174C\",\"line\":{\"color\":\" #006BB6\",\"width\":2},\"opacity\":0.9,\"size\":9},\"mode\":\"markers\",\"name\":\"Detroit Pistons\",\"showlegend\":true,\"text\":\"Detroit Pistons\",\"type\":\"scatter\",\"x\":[2002,2003,2004,2005,2006,2007,2008,2009,2010,2011,2012,2013,2014,2015,2016,2017,2018,2019,2020,2021],\"y\":[1.9042174796747968,1.8382316001004773,1.8617290192113245,1.8451515910799299,1.832576903681291,1.8440643863179074,1.8446528129751647,1.8342125094197437,1.865267947421638,1.8682092555331993,1.8791105543376134,1.911386013632921,1.9903943377148634,1.9518406454866364,1.9974849094567404,1.9919212320121182,2.0148952284776573,2.0400402921178546,2.0378953961791417,2.0458978772231786]},{\"hoverinfo\":\"name+y\",\"marker\":{\"color\":\" #006BB6\",\"line\":{\"color\":\" #fdb927\",\"width\":2},\"opacity\":0.9,\"size\":9},\"mode\":\"markers\",\"name\":\"Golden State Warriors\",\"showlegend\":true,\"text\":\"Golden State Warriors\",\"type\":\"scatter\",\"x\":[2002,2003,2004,2005,2006,2007,2008,2009,2010,2011,2012,2013,2014,2015,2016,2017,2018,2019,2020,2021],\"y\":[1.9944388270980788,1.9987344975955454,1.8975069252077563,1.9668425018839488,1.966717095310136,2.082510756770438,2.0851870576339735,2.074195171026157,2.113025848960973,1.9959657085224407,1.9516179704681118,1.992678616510982,2.028492183560262,2.0704510897110997,2.0882796780684103,2.0927704752275025,2.090978205778003,2.118151981822772,2.1058823529411765,2.14157757873447]},{\"hoverinfo\":\"name+y\",\"marker\":{\"color\":\" #ce1141\",\"line\":{\"color\":\" #000000\",\"width\":2},\"opacity\":0.9,\"size\":9},\"mode\":\"markers\",\"name\":\"Houston Rockets\",\"showlegend\":true,\"text\":\"Houston Rockets\",\"type\":\"scatter\",\"x\":[2002,2003,2004,2005,2006,2007,2008,2009,2010,2011,2012,2013,2014,2015,2016,2017,2018,2019,2020,2021],\"y\":[1.8658658658658658,1.8835925740090316,1.8524836929252384,1.8803827751196172,1.8552697932425617,1.9133719466129437,1.9069944247339077,1.90154001514769,1.9736247174076864,1.9818913480885312,1.9343292872704638,2.019211324570273,2.027231467473525,2.0290330724564503,2.052193645990923,2.095298281092012,2.044545684636801,2.049924357034796,2.168872266973533,2.114995665992488]},{\"hoverinfo\":\"name+y\",\"marker\":{\"color\":\" #002D62\",\"line\":{\"color\":\" #fdbb30\",\"width\":2},\"opacity\":0.9,\"size\":9},\"mode\":\"markers\",\"name\":\"Indiana Pacers\",\"showlegend\":true,\"text\":\"Indiana Pacers\",\"type\":\"scatter\",\"x\":[2002,2003,2004,2005,2006,2007,2008,2009,2010,2011,2012,2013,2014,2015,2016,2017,2018,2019,2020,2021],\"y\":[1.9394624466214518,1.9331826174328057,1.845746023731381,1.8465209746294902,1.8930562595032945,1.9456521739130435,2.0528980005062007,2.0264750378214824,2.0360314640954074,1.987866531850354,1.91213258286429,1.8938233792751404,1.935288169868554,1.952404935784437,2.0291750503018107,2.0118358096197433,2.0189825360668183,2.054554681552905,2.071225879682179,2.125179031796047]},{\"hoverinfo\":\"name+y\",\"marker\":{\"color\":\" #ED174C\",\"line\":{\"color\":\" #006bb6\",\"width\":2},\"opacity\":0.9,\"size\":9},\"mode\":\"markers\",\"name\":\"Los Angeles Clippers\",\"showlegend\":true,\"text\":\"Los Angeles Clippers\",\"type\":\"scatter\",\"x\":[2002,2003,2004,2005,2006,2007,2008,2009,2010,2011,2012,2013,2014,2015,2016,2017,2018,2019,2020,2021],\"y\":[1.8995203231507196,1.926853961022526,1.9247664731128502,1.888167748377434,1.937642009593537,1.9143436391282311,1.943448624084827,1.942404426559356,1.9462065465617864,1.9435910350037773,1.875665518321328,1.9138367967562089,2.0131612250063275,1.9878357830714648,2.0158850226928897,2.0167046317388,2.0723166708957117,2.136913767019667,2.1277330264672036,2.0358796296296298]},{\"hoverinfo\":\"name+y\",\"marker\":{\"color\":\" #552583\",\"line\":{\"color\":\" #ffc72c\",\"width\":2},\"opacity\":0.9,\"size\":9},\"mode\":\"markers\",\"name\":\"Los Angeles Lakers\",\"showlegend\":true,\"text\":\"Los Angeles Lakers\",\"type\":\"scatter\",\"x\":[2002,2003,2004,2005,2006,2007,2008,2009,2010,2011,2012,2013,2014,2015,2016,2017,2018,2019,2020,2021],\"y\":[1.9441354903943378,1.9560963371801305,1.9463611181062705,1.9236602628918098,1.9219340216570133,1.9715426859710434,2.0156723963599594,1.9903943377148634,1.953857791225416,1.9147755925365608,1.912542794895736,1.9817767653758542,2.074854097944684,1.9799297541394882,2.009630005068424,2.066226845978178,2.1002260738507914,2.1572295247724975,2.109713282621416,2.0578630764823833]},{\"hoverinfo\":\"name+y\",\"marker\":{\"color\":\" #6189B9\",\"line\":{\"color\":\" #00285E\",\"width\":2},\"opacity\":0.9,\"size\":9},\"mode\":\"markers\",\"name\":\"Memphis Grizzlies\",\"showlegend\":true,\"text\":\"Memphis Grizzlies\",\"type\":\"scatter\",\"x\":[2002,2003,2004,2005,2006,2007,2008,2009,2010,2011,2012,2013,2014,2015,2016,2017,2018,2019,2020,2021],\"y\":[1.928463094034378,1.960110386352233,1.9290744466800804,1.8662775945191576,1.8212037270209016,1.9727227227227226,2.00580661449129,1.9005301691492047,1.963325797538307,1.9255533199195172,1.913111668757842,1.8667003281999495,1.8874021711688966,1.9331826174328057,1.9573877962682804,1.9346897764380808,1.995686374016747,2.021629778672032,2.151963574274331,2.0976730824475727]},{\"hoverinfo\":\"name+y\",\"marker\":{\"color\":\" #98002e\",\"line\":{\"color\":\" #F9A01B\",\"width\":2},\"opacity\":0.9,\"size\":9},\"mode\":\"markers\",\"name\":\"Miami Heat\",\"showlegend\":true,\"text\":\"Miami Heat\",\"type\":\"scatter\",\"x\":[2002,2003,2004,2005,2006,2007,2008,2009,2010,2011,2012,2013,2014,2015,2016,2017,2018,2019,2020,2021],\"y\":[1.8429503261414952,1.8540090771558244,1.8630726398380157,1.9136636636636637,1.9291318653505443,1.8894485016368674,1.9006555723651033,1.8910047607116012,1.8825452716297786,1.9120323559150658,1.9183291770573565,1.904426559356137,1.915241448692153,1.907247845919919,1.9614220877458397,1.9906471183013144,2.003261414952333,2.0582868727825647,2.0586080586080584,2.0241657077100115]},{\"hoverinfo\":\"name+y\",\"marker\":{\"color\":\" #00471b\",\"line\":{\"color\":\" #eee1c6\",\"width\":2},\"opacity\":0.9,\"size\":9},\"mode\":\"markers\",\"name\":\"Milwaukee Bucks\",\"showlegend\":true,\"text\":\"Milwaukee Bucks\",\"type\":\"scatter\",\"x\":[2002,2003,2004,2005,2006,2007,2008,2009,2010,2011,2012,2013,2014,2015,2016,2017,2018,2019,2020,2021],\"y\":[1.9068073348404924,1.9108264255212257,1.941860465116279,1.9170879676440848,1.9254595819692772,1.9413246033744649,1.9274741878619994,1.955510616784631,1.9264264264264264,1.8852748361069087,1.9716356760163882,1.9942007060010085,1.9328470824949697,1.9736578023080782,1.9813414019162885,1.9787664307381194,2.020423600605144,2.1569767441860463,2.199204319408923,2.1416618580496247]},{\"hoverinfo\":\"name+y\",\"marker\":{\"color\":\" #0c2340\",\"line\":{\"color\":\" #236192\",\"width\":2},\"opacity\":0.9,\"size\":9},\"mode\":\"markers\",\"name\":\"Minnesota Timberwolves\",\"showlegend\":true,\"text\":\"Minnesota Timberwolves\",\"type\":\"scatter\",\"x\":[2002,2003,2004,2005,2006,2007,2008,2009,2010,2011,2012,2013,2014,2015,2016,2017,2018,2019,2020,2021],\"y\":[1.91315324413027,1.939156778591265,1.8833206783092888,1.8830675778283978,1.865776882397381,1.9217695576105973,1.9341104916371008,1.9300681646048978,2.0227502527805865,2.0308392315470174,1.9661229611041404,1.954384186517993,2.049609670108285,1.987629386518556,2.0032696177062372,1.986872002019692,2.015905074476142,2.1031265758951085,2.16452442159383,2.122665900603275]},{\"hoverinfo\":\"name+y\",\"marker\":{\"color\":\" #002b5c\",\"line\":{\"color\":\" #E31837\",\"width\":2},\"opacity\":0.9,\"size\":9},\"mode\":\"markers\",\"name\":\"New Orleans Pelicans\",\"showlegend\":true,\"text\":\"New Orleans Pelicans\",\"type\":\"scatter\",\"x\":[2003,2004,2005,2006,2007,2008,2009,2010,2011,2012,2013,2014,2015,2016,2017,2018,2019,2020,2021],\"y\":[1.8894750062798291,1.8850226928895613,1.8519819367787256,1.8788184801817722,1.8991448692152917,1.8977530926533703,1.8483928119463426,1.9467977811396873,1.862581946545638,1.8582183186951067,1.865267947421638,1.9398136489549231,1.923154701718908,2.032608695652174,2.0530017583521727,2.115509897268855,2.164768413059985,2.1652323580034425,2.0949512335054505]},{\"hoverinfo\":\"name+y\",\"marker\":{\"color\":\" #006BB6\",\"line\":{\"color\":\" #f58426\",\"width\":2},\"opacity\":0.9,\"size\":9},\"mode\":\"markers\",\"name\":\"New York Knicks\",\"showlegend\":true,\"text\":\"New York Knicks\",\"type\":\"scatter\",\"x\":[2002,2003,2004,2005,2006,2007,2008,2009,2010,2011,2012,2013,2014,2015,2016,2017,2018,2019,2020,2021],\"y\":[1.8901792476647312,1.9166456811886174,1.9021629778672031,1.9200201207243461,1.9149523331660814,1.9147713071732066,1.9305835010060362,2.0363544559454683,1.9798792756539236,2.0083417593528816,1.9579673776662485,1.8910288900152052,1.9027952656761522,1.9184084613447494,1.959858621560212,2.0120876353563335,2.0320221886031264,2.083923154701719,2.0651424992170373,2.006310958118187]},{\"hoverinfo\":\"name+y\",\"marker\":{\"color\":\" #007AC1\",\"line\":{\"color\":\" #ef3b24\",\"width\":2},\"opacity\":0.9,\"size\":9},\"mode\":\"markers\",\"name\":\"Oklahoma City Thunder\",\"showlegend\":true,\"text\":\"Oklahoma City Thunder\",\"type\":\"scatter\",\"x\":[2009,2010,2011,2012,2013,2014,2015,2016,2017,2018,2019,2020,2021],\"y\":[1.9795506185306742,1.9626356980560464,1.9555111222194452,1.9615384615384615,1.9687342410489157,2.008078767987882,2.0141200201714575,2.0325264750378214,2.0446856854329716,2.026222894604135,2.1528582221102996,2.0705679862306368,2.118409680207433]},{\"hoverinfo\":\"name+y\",\"marker\":{\"color\":\" #0057b8\",\"line\":{\"color\":\" #c2ccd2\",\"width\":2},\"opacity\":0.9,\"size\":9},\"mode\":\"markers\",\"name\":\"Orlando Magic\",\"showlegend\":true,\"text\":\"Orlando Magic\",\"type\":\"scatter\",\"x\":[2002,2003,2004,2005,2006,2007,2008,2009,2010,2011,2012,2013,2014,2015,2016,2017,2018,2019,2020,2021],\"y\":[1.9679778113968733,1.9661701590507448,1.9183055975794252,2.002283684344075,1.857573474001507,1.8870070778564205,1.9608190091001012,1.9384186517992905,1.9295489102889,1.9099848714069592,1.8722204823050423,1.9327603640040445,1.9636682535705337,1.9673500379650721,2.014066817382567,2.0169149204746275,2.0516979219462748,2.0558645096056622,2.06459874786568,2.0652048470859783]},{\"hoverinfo\":\"name+y\",\"marker\":{\"color\":\" #006BB6\",\"line\":{\"color\":\" #ED174C\",\"width\":2},\"opacity\":0.9,\"size\":9},\"mode\":\"markers\",\"name\":\"Philadelphia 76ers\",\"showlegend\":true,\"text\":\"Philadelphia 76ers\",\"type\":\"scatter\",\"x\":[2002,2003,2004,2005,2006,2007,2008,2009,2010,2011,2012,2013,2014,2015,2016,2017,2018,2019,2020,2021],\"y\":[1.8813988849467815,1.9375472173256107,1.8582221102996725,2.010828506673382,1.9542828435066566,1.9129778672032194,1.9073652239939256,1.9012908124525436,1.9308255491037616,1.9340190667335675,1.8900408419729815,1.914958238420653,2.0740367665575423,2.0070689219893967,2.0497349154253977,2.062279374684821,2.097826086956522,2.137591517293613,2.075589656152316,2.0860585197934594]},{\"hoverinfo\":\"name+y\",\"marker\":{\"color\":\" #1D1160\",\"line\":{\"color\":\" #e56020\",\"width\":2},\"opacity\":0.9,\"size\":9},\"mode\":\"markers\",\"name\":\"Phoenix Suns\",\"showlegend\":true,\"text\":\"Phoenix Suns\",\"type\":\"scatter\",\"x\":[2002,2003,2004,2005,2006,2007,2008,2009,2010,2011,2012,2013,2014,2015,2016,2017,2018,2019,2020,2021],\"y\":[1.932173474533535,1.9280484726079272,1.951089711099848,2.0308392315470174,2.0212979203207215,2.0100477267018335,2.0369059656218402,2.020754239433055,2.0114039533705017,1.9820044988752812,1.94854797979798,1.9674324665488514,2.0179701341432548,2.0266599597585513,2.068510530322253,2.097831568330812,2.1042882517127635,2.1053822937625752,2.1167945439045184,2.041475972540046]},{\"hoverinfo\":\"name+y\",\"marker\":{\"color\":\" #E03A3E\",\"line\":{\"color\":\" #000000\",\"width\":2},\"opacity\":0.9,\"size\":9},\"mode\":\"markers\",\"name\":\"Portland Trail Blazers\",\"showlegend\":true,\"text\":\"Portland Trail Blazers\",\"type\":\"scatter\",\"x\":[2002,2003,2004,2005,2006,2007,2008,2009,2010,2011,2012,2013,2014,2015,2016,2017,2018,2019,2020,2021],\"y\":[1.886535552193646,1.8856423173803527,1.8240740740740742,1.8958438925494172,1.8520020273694882,1.8619393635680281,1.8540567696558654,1.8338376197680282,1.8481490808360614,1.8578641757132037,1.9238960225493267,1.9262150591790481,1.9969780911609167,1.9813648954923193,2.0227215349659176,2.029101856497742,2.0227790432801824,2.0823470158650212,2.1079338379590693,2.0621207743426755]},{\"hoverinfo\":\"name+y\",\"marker\":{\"color\":\" #5A2D81\",\"line\":{\"color\":\" #63727a\",\"width\":2},\"opacity\":0.9,\"size\":9},\"mode\":\"markers\",\"name\":\"Sacramento Kings\",\"showlegend\":true,\"text\":\"Sacramento Kings\",\"type\":\"scatter\",\"x\":[2002,2003,2004,2005,2006,2007,2008,2009,2010,2011,2012,2013,2014,2015,2016,2017,2018,2019,2020,2021],\"y\":[2.012401923563655,2.01386787695411,1.9628412537917088,1.9690254343993956,1.9417549167927384,1.9939409240090886,1.9969742813918305,1.9846772167797035,1.9756036217303823,1.9952153110047848,1.9896324222431667,1.9677256681795259,1.9768028240040343,2.0025182573659026,2.0959353698560967,1.9896881287726358,1.9893697798025816,2.1654840344652815,2.0736178745345173,2.099393238948281]},{\"hoverinfo\":\"name+y\",\"marker\":{\"color\":\" #000\",\"line\":{\"color\":\" #C4CED4\",\"width\":2},\"opacity\":0.9,\"size\":9},\"mode\":\"markers\",\"name\":\"San Antonio Spurs\",\"showlegend\":true,\"text\":\"San Antonio Spurs\",\"type\":\"scatter\",\"x\":[2002,2003,2004,2005,2006,2007,2008,2009,2010,2011,2012,2013,2014,2015,2016,2017,2018,2019,2020,2021],\"y\":[1.8957441450516244,1.9056984367120524,1.880030372057707,1.8770512496844232,1.8636707902044938,1.8806875631951465,1.8694880892042576,1.857573474001507,1.922396359959555,1.9441354903943378,1.9510664993726474,1.9849094567404426,1.9962034927866363,1.9694312202455524,1.970819588936818,1.9772784650340822,1.9936644703497213,2.060590759909114,2.1054313099041533,2.0697940503432495]},{\"hoverinfo\":\"name+y\",\"marker\":{\"color\":\" #00653a\",\"line\":{\"color\":\" #ffc200\",\"width\":2},\"opacity\":0.9,\"size\":9},\"mode\":\"markers\",\"name\":\"Seattle SuperSonics\",\"showlegend\":true,\"text\":\"Seattle SuperSonics\",\"type\":\"scatter\",\"x\":[2002,2003,2004,2005,2006,2007,2008],\"y\":[1.8830055471507816,1.8582221102996725,1.904064630143903,1.8610478359908884,1.938729198184569,1.934947049924357,2.0247100353000502]},{\"hoverinfo\":\"name+y\",\"marker\":{\"color\":\" #CE1141\",\"line\":{\"color\":\" #000\",\"width\":2},\"opacity\":0.9,\"size\":9},\"mode\":\"markers\",\"name\":\"Toronto Raptors\",\"showlegend\":true,\"text\":\"Toronto Raptors\",\"type\":\"scatter\",\"x\":[2002,2003,2004,2005,2006,2007,2008,2009,2010,2011,2012,2013,2014,2015,2016,2017,2018,2019,2020,2021],\"y\":[1.876486965325234,1.8952284776571573,1.8388388388388388,1.9596061600605907,1.9238286143823604,1.9536826119969628,1.9019162884518406,1.9431961625852057,1.9580384226491405,1.9522244691607684,1.8816160350767304,1.8996496496496496,1.9283387622149837,1.9481238982624025,1.9481799797775532,1.9886248736097067,2.043368633383762,2.096076458752515,2.1081703107019565,2.073678127708755]},{\"hoverinfo\":\"name+y\",\"marker\":{\"color\":\" #002B5C\",\"line\":{\"color\":\" #F9A01B\",\"width\":2},\"opacity\":0.9,\"size\":9},\"mode\":\"markers\",\"name\":\"Utah Jazz\",\"showlegend\":true,\"text\":\"Utah Jazz\",\"type\":\"scatter\",\"x\":[2002,2003,2004,2005,2006,2007,2008,2009,2010,2011,2012,2013,2014,2015,2016,2017,2018,2019,2020,2021],\"y\":[1.9117498739283914,1.8915571284125379,1.8379676440849342,1.8728513650151668,1.8606639839034205,1.9341075485988386,1.9723420451662015,1.9685613682092555,1.9719058466211086,1.9162474849094568,1.928858645221157,1.9187625754527162,1.922396359959555,1.8995178888606952,1.9105487346529693,1.9182485446722348,2.012401923563655,2.102758795241711,2.0653990204552004,2.072313454335926]},{\"hoverinfo\":\"name+y\",\"marker\":{\"color\":\" #002B5C\",\"line\":{\"color\":\" #e31837\",\"width\":2},\"opacity\":0.9,\"size\":9},\"mode\":\"markers\",\"name\":\"Washington Wizards\",\"showlegend\":true,\"text\":\"Washington Wizards\",\"type\":\"scatter\",\"x\":[2002,2003,2004,2005,2006,2007,2008,2009,2010,2011,2012,2013,2014,2015,2016,2017,2018,2019,2020,2021],\"y\":[1.874049670552458,1.8633383761976803,1.954362077660111,1.9757330637007078,1.9520927887039838,1.984367120524458,1.8922381311228336,1.9223547323014463,1.9304084720121029,1.9746613146011038,1.948313898518752,1.938806346008562,1.962602842183994,1.9654221999498873,2.0660592255125283,2.042054898010577,2.0365147318055907,2.128951329653788,2.153558052434457,2.1789715598965813]}],                        {\"height\":600,\"template\":{\"data\":{\"bar\":[{\"error_x\":{\"color\":\"#2a3f5f\"},\"error_y\":{\"color\":\"#2a3f5f\"},\"marker\":{\"line\":{\"color\":\"#E5ECF6\",\"width\":0.5},\"pattern\":{\"fillmode\":\"overlay\",\"size\":10,\"solidity\":0.2}},\"type\":\"bar\"}],\"barpolar\":[{\"marker\":{\"line\":{\"color\":\"#E5ECF6\",\"width\":0.5},\"pattern\":{\"fillmode\":\"overlay\",\"size\":10,\"solidity\":0.2}},\"type\":\"barpolar\"}],\"carpet\":[{\"aaxis\":{\"endlinecolor\":\"#2a3f5f\",\"gridcolor\":\"white\",\"linecolor\":\"white\",\"minorgridcolor\":\"white\",\"startlinecolor\":\"#2a3f5f\"},\"baxis\":{\"endlinecolor\":\"#2a3f5f\",\"gridcolor\":\"white\",\"linecolor\":\"white\",\"minorgridcolor\":\"white\",\"startlinecolor\":\"#2a3f5f\"},\"type\":\"carpet\"}],\"choropleth\":[{\"colorbar\":{\"outlinewidth\":0,\"ticks\":\"\"},\"type\":\"choropleth\"}],\"contour\":[{\"colorbar\":{\"outlinewidth\":0,\"ticks\":\"\"},\"colorscale\":[[0.0,\"#0d0887\"],[0.1111111111111111,\"#46039f\"],[0.2222222222222222,\"#7201a8\"],[0.3333333333333333,\"#9c179e\"],[0.4444444444444444,\"#bd3786\"],[0.5555555555555556,\"#d8576b\"],[0.6666666666666666,\"#ed7953\"],[0.7777777777777778,\"#fb9f3a\"],[0.8888888888888888,\"#fdca26\"],[1.0,\"#f0f921\"]],\"type\":\"contour\"}],\"contourcarpet\":[{\"colorbar\":{\"outlinewidth\":0,\"ticks\":\"\"},\"type\":\"contourcarpet\"}],\"heatmap\":[{\"colorbar\":{\"outlinewidth\":0,\"ticks\":\"\"},\"colorscale\":[[0.0,\"#0d0887\"],[0.1111111111111111,\"#46039f\"],[0.2222222222222222,\"#7201a8\"],[0.3333333333333333,\"#9c179e\"],[0.4444444444444444,\"#bd3786\"],[0.5555555555555556,\"#d8576b\"],[0.6666666666666666,\"#ed7953\"],[0.7777777777777778,\"#fb9f3a\"],[0.8888888888888888,\"#fdca26\"],[1.0,\"#f0f921\"]],\"type\":\"heatmap\"}],\"heatmapgl\":[{\"colorbar\":{\"outlinewidth\":0,\"ticks\":\"\"},\"colorscale\":[[0.0,\"#0d0887\"],[0.1111111111111111,\"#46039f\"],[0.2222222222222222,\"#7201a8\"],[0.3333333333333333,\"#9c179e\"],[0.4444444444444444,\"#bd3786\"],[0.5555555555555556,\"#d8576b\"],[0.6666666666666666,\"#ed7953\"],[0.7777777777777778,\"#fb9f3a\"],[0.8888888888888888,\"#fdca26\"],[1.0,\"#f0f921\"]],\"type\":\"heatmapgl\"}],\"histogram\":[{\"marker\":{\"pattern\":{\"fillmode\":\"overlay\",\"size\":10,\"solidity\":0.2}},\"type\":\"histogram\"}],\"histogram2d\":[{\"colorbar\":{\"outlinewidth\":0,\"ticks\":\"\"},\"colorscale\":[[0.0,\"#0d0887\"],[0.1111111111111111,\"#46039f\"],[0.2222222222222222,\"#7201a8\"],[0.3333333333333333,\"#9c179e\"],[0.4444444444444444,\"#bd3786\"],[0.5555555555555556,\"#d8576b\"],[0.6666666666666666,\"#ed7953\"],[0.7777777777777778,\"#fb9f3a\"],[0.8888888888888888,\"#fdca26\"],[1.0,\"#f0f921\"]],\"type\":\"histogram2d\"}],\"histogram2dcontour\":[{\"colorbar\":{\"outlinewidth\":0,\"ticks\":\"\"},\"colorscale\":[[0.0,\"#0d0887\"],[0.1111111111111111,\"#46039f\"],[0.2222222222222222,\"#7201a8\"],[0.3333333333333333,\"#9c179e\"],[0.4444444444444444,\"#bd3786\"],[0.5555555555555556,\"#d8576b\"],[0.6666666666666666,\"#ed7953\"],[0.7777777777777778,\"#fb9f3a\"],[0.8888888888888888,\"#fdca26\"],[1.0,\"#f0f921\"]],\"type\":\"histogram2dcontour\"}],\"mesh3d\":[{\"colorbar\":{\"outlinewidth\":0,\"ticks\":\"\"},\"type\":\"mesh3d\"}],\"parcoords\":[{\"line\":{\"colorbar\":{\"outlinewidth\":0,\"ticks\":\"\"}},\"type\":\"parcoords\"}],\"pie\":[{\"automargin\":true,\"type\":\"pie\"}],\"scatter\":[{\"marker\":{\"colorbar\":{\"outlinewidth\":0,\"ticks\":\"\"}},\"type\":\"scatter\"}],\"scatter3d\":[{\"line\":{\"colorbar\":{\"outlinewidth\":0,\"ticks\":\"\"}},\"marker\":{\"colorbar\":{\"outlinewidth\":0,\"ticks\":\"\"}},\"type\":\"scatter3d\"}],\"scattercarpet\":[{\"marker\":{\"colorbar\":{\"outlinewidth\":0,\"ticks\":\"\"}},\"type\":\"scattercarpet\"}],\"scattergeo\":[{\"marker\":{\"colorbar\":{\"outlinewidth\":0,\"ticks\":\"\"}},\"type\":\"scattergeo\"}],\"scattergl\":[{\"marker\":{\"colorbar\":{\"outlinewidth\":0,\"ticks\":\"\"}},\"type\":\"scattergl\"}],\"scattermapbox\":[{\"marker\":{\"colorbar\":{\"outlinewidth\":0,\"ticks\":\"\"}},\"type\":\"scattermapbox\"}],\"scatterpolar\":[{\"marker\":{\"colorbar\":{\"outlinewidth\":0,\"ticks\":\"\"}},\"type\":\"scatterpolar\"}],\"scatterpolargl\":[{\"marker\":{\"colorbar\":{\"outlinewidth\":0,\"ticks\":\"\"}},\"type\":\"scatterpolargl\"}],\"scatterternary\":[{\"marker\":{\"colorbar\":{\"outlinewidth\":0,\"ticks\":\"\"}},\"type\":\"scatterternary\"}],\"surface\":[{\"colorbar\":{\"outlinewidth\":0,\"ticks\":\"\"},\"colorscale\":[[0.0,\"#0d0887\"],[0.1111111111111111,\"#46039f\"],[0.2222222222222222,\"#7201a8\"],[0.3333333333333333,\"#9c179e\"],[0.4444444444444444,\"#bd3786\"],[0.5555555555555556,\"#d8576b\"],[0.6666666666666666,\"#ed7953\"],[0.7777777777777778,\"#fb9f3a\"],[0.8888888888888888,\"#fdca26\"],[1.0,\"#f0f921\"]],\"type\":\"surface\"}],\"table\":[{\"cells\":{\"fill\":{\"color\":\"#EBF0F8\"},\"line\":{\"color\":\"white\"}},\"header\":{\"fill\":{\"color\":\"#C8D4E3\"},\"line\":{\"color\":\"white\"}},\"type\":\"table\"}]},\"layout\":{\"annotationdefaults\":{\"arrowcolor\":\"#2a3f5f\",\"arrowhead\":0,\"arrowwidth\":1},\"autotypenumbers\":\"strict\",\"coloraxis\":{\"colorbar\":{\"outlinewidth\":0,\"ticks\":\"\"}},\"colorscale\":{\"diverging\":[[0,\"#8e0152\"],[0.1,\"#c51b7d\"],[0.2,\"#de77ae\"],[0.3,\"#f1b6da\"],[0.4,\"#fde0ef\"],[0.5,\"#f7f7f7\"],[0.6,\"#e6f5d0\"],[0.7,\"#b8e186\"],[0.8,\"#7fbc41\"],[0.9,\"#4d9221\"],[1,\"#276419\"]],\"sequential\":[[0.0,\"#0d0887\"],[0.1111111111111111,\"#46039f\"],[0.2222222222222222,\"#7201a8\"],[0.3333333333333333,\"#9c179e\"],[0.4444444444444444,\"#bd3786\"],[0.5555555555555556,\"#d8576b\"],[0.6666666666666666,\"#ed7953\"],[0.7777777777777778,\"#fb9f3a\"],[0.8888888888888888,\"#fdca26\"],[1.0,\"#f0f921\"]],\"sequentialminus\":[[0.0,\"#0d0887\"],[0.1111111111111111,\"#46039f\"],[0.2222222222222222,\"#7201a8\"],[0.3333333333333333,\"#9c179e\"],[0.4444444444444444,\"#bd3786\"],[0.5555555555555556,\"#d8576b\"],[0.6666666666666666,\"#ed7953\"],[0.7777777777777778,\"#fb9f3a\"],[0.8888888888888888,\"#fdca26\"],[1.0,\"#f0f921\"]]},\"colorway\":[\"#636efa\",\"#EF553B\",\"#00cc96\",\"#ab63fa\",\"#FFA15A\",\"#19d3f3\",\"#FF6692\",\"#B6E880\",\"#FF97FF\",\"#FECB52\"],\"font\":{\"color\":\"#2a3f5f\"},\"geo\":{\"bgcolor\":\"white\",\"lakecolor\":\"white\",\"landcolor\":\"#E5ECF6\",\"showlakes\":true,\"showland\":true,\"subunitcolor\":\"white\"},\"hoverlabel\":{\"align\":\"left\"},\"hovermode\":\"closest\",\"mapbox\":{\"style\":\"light\"},\"paper_bgcolor\":\"white\",\"plot_bgcolor\":\"#E5ECF6\",\"polar\":{\"angularaxis\":{\"gridcolor\":\"white\",\"linecolor\":\"white\",\"ticks\":\"\"},\"bgcolor\":\"#E5ECF6\",\"radialaxis\":{\"gridcolor\":\"white\",\"linecolor\":\"white\",\"ticks\":\"\"}},\"scene\":{\"xaxis\":{\"backgroundcolor\":\"#E5ECF6\",\"gridcolor\":\"white\",\"gridwidth\":2,\"linecolor\":\"white\",\"showbackground\":true,\"ticks\":\"\",\"zerolinecolor\":\"white\"},\"yaxis\":{\"backgroundcolor\":\"#E5ECF6\",\"gridcolor\":\"white\",\"gridwidth\":2,\"linecolor\":\"white\",\"showbackground\":true,\"ticks\":\"\",\"zerolinecolor\":\"white\"},\"zaxis\":{\"backgroundcolor\":\"#E5ECF6\",\"gridcolor\":\"white\",\"gridwidth\":2,\"linecolor\":\"white\",\"showbackground\":true,\"ticks\":\"\",\"zerolinecolor\":\"white\"}},\"shapedefaults\":{\"line\":{\"color\":\"#2a3f5f\"}},\"ternary\":{\"aaxis\":{\"gridcolor\":\"white\",\"linecolor\":\"white\",\"ticks\":\"\"},\"baxis\":{\"gridcolor\":\"white\",\"linecolor\":\"white\",\"ticks\":\"\"},\"bgcolor\":\"#E5ECF6\",\"caxis\":{\"gridcolor\":\"white\",\"linecolor\":\"white\",\"ticks\":\"\"}},\"title\":{\"x\":0.05},\"xaxis\":{\"automargin\":true,\"gridcolor\":\"white\",\"linecolor\":\"white\",\"ticks\":\"\",\"title\":{\"standoff\":15},\"zerolinecolor\":\"white\",\"zerolinewidth\":2},\"yaxis\":{\"automargin\":true,\"gridcolor\":\"white\",\"linecolor\":\"white\",\"ticks\":\"\",\"title\":{\"standoff\":15},\"zerolinecolor\":\"white\",\"zerolinewidth\":2}}},\"title\":{\"text\":\"Possessions per Minute\"}},                        {\"responsive\": true}                    ).then(function(){\n",
       "                            \n",
       "var gd = document.getElementById('fa2ca91c-9b16-4a91-aefc-79a9b6fbcb45');\n",
       "var x = new MutationObserver(function (mutations, observer) {{\n",
       "        var display = window.getComputedStyle(gd).display;\n",
       "        if (!display || display === 'none') {{\n",
       "            console.log([gd, 'removed!']);\n",
       "            Plotly.purge(gd);\n",
       "            observer.disconnect();\n",
       "        }}\n",
       "}});\n",
       "\n",
       "// Listen for the removal of the full notebook cells\n",
       "var notebookContainer = gd.closest('#notebook-container');\n",
       "if (notebookContainer) {{\n",
       "    x.observe(notebookContainer, {childList: true});\n",
       "}}\n",
       "\n",
       "// Listen for the clearing of the current output cell\n",
       "var outputEl = gd.closest('.output');\n",
       "if (outputEl) {{\n",
       "    x.observe(outputEl, {childList: true});\n",
       "}}\n",
       "\n",
       "                        })                };                });            </script>        </div>"
      ]
     },
     "metadata": {},
     "output_type": "display_data"
    }
   ],
   "source": [
    "points = [\n",
    "    go.Scatter(\n",
    "        x=group[\"SEASON\"], y=group[\"POSS_PER_MIN\"], mode=\"markers\", \n",
    "        # Getting the marker to look like the team with border color and color.\n",
    "        marker=dict(opacity=0.9, size=9, line=dict(width=2, color=group[\"border_color\"].iloc[0])),\n",
    "        marker_color=group[\"color\"].iloc[0], hoverinfo=\"name+y\",\n",
    "        text=name, name=name, showlegend=True,\n",
    "    ) for name, group in df.groupby(\"TEAM_NAME\")\n",
    "]\n",
    "fig = go.Figure(data=[\n",
    "    go.Box(x=df[\"SEASON\"], y=df[\"POSS_PER_MIN\"], boxpoints=False, marker_color=\"lightgrey\", line_color=\"grey\", showlegend=False),\n",
    "] + points)\n",
    "fig.update_layout(title=\"Possessions per Minute\", height=600)                    \n",
    "fig.show()"
   ]
  },
  {
   "cell_type": "markdown",
   "id": "74ded690-2a73-410e-be83-d7c20e12f9c5",
   "metadata": {},
   "source": [
    "### Conclusions\n",
    "We can see that the playing pace has increased from the 2015 season and on, but the big leap is done in the 2018 season, since the minimum pace is a lot higher than in the 2017 season (almost the average on that year)."
   ]
  }
 ],
 "metadata": {
  "kernelspec": {
   "display_name": "Python 3",
   "language": "python",
   "name": "python3"
  },
  "language_info": {
   "codemirror_mode": {
    "name": "ipython",
    "version": 3
   },
   "file_extension": ".py",
   "mimetype": "text/x-python",
   "name": "python",
   "nbconvert_exporter": "python",
   "pygments_lexer": "ipython3",
   "version": "3.9.2"
  }
 },
 "nbformat": 4,
 "nbformat_minor": 5
}
